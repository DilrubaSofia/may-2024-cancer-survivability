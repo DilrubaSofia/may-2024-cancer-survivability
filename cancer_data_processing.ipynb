{
 "cells": [
  {
   "cell_type": "markdown",
   "id": "dea0b5ed",
   "metadata": {},
   "source": [
    "Here, we'll process the clinical data for breast cancer patients that we've downloaded from https://portal.gdc.cancer.gov/"
   ]
  },
  {
   "cell_type": "code",
   "execution_count": 4,
   "id": "500b0290",
   "metadata": {},
   "outputs": [],
   "source": [
    "import pandas as pd\n",
    "\n",
    "pd.set_option('future.no_silent_downcasting', True)"
   ]
  },
  {
   "cell_type": "code",
   "execution_count": 5,
   "id": "06adf0ae",
   "metadata": {},
   "outputs": [],
   "source": [
    "# Load clinical data to DataFrame\n",
    "clinical = pd.read_json(\"clinical_cart.json\")"
   ]
  },
  {
   "cell_type": "code",
   "execution_count": 6,
   "id": "cf34896c",
   "metadata": {
    "scrolled": true
   },
   "outputs": [
    {
     "data": {
      "text/plain": "                                           exposures  \\\n0  [{'alcohol_history': 'Not Reported', 'updated_...   \n1  [{'alcohol_history': 'Not Reported', 'updated_...   \n2  [{'alcohol_history': 'Not Reported', 'updated_...   \n3  [{'alcohol_history': 'Not Reported', 'updated_...   \n4  [{'alcohol_history': 'Not Reported', 'updated_...   \n\n                                case_id                      project  \\\n0  001cef41-ff86-4d3f-a140-a647ac4b10a1  {'project_id': 'TCGA-BRCA'}   \n1  00a2d166-78c9-4687-a195-3d6315c27574  {'project_id': 'TCGA-BRCA'}   \n2  00b11ca8-8540-4a3d-b602-ec754b00230b  {'project_id': 'TCGA-BRCA'}   \n3  011b9b2d-ebe5-42bf-9662-d922faccc7a1  {'project_id': 'TCGA-BRCA'}   \n4  01263518-5f7c-49dc-8d7e-84b0c03a6a63  {'project_id': 'TCGA-BRCA'}   \n\n   submitter_id                                          diagnoses  \\\n0  TCGA-E2-A1IU  [{'synchronous_malignancy': 'No', 'ajcc_pathol...   \n1  TCGA-AN-A0AM  [{'synchronous_malignancy': 'No', 'ajcc_pathol...   \n2  TCGA-LL-A440  [{'synchronous_malignancy': 'Not Reported', 'a...   \n3  TCGA-A7-A26E  [{'synchronous_malignancy': 'Not Reported', 'a...   \n4  TCGA-A8-A07W  [{'synchronous_malignancy': 'No', 'ajcc_pathol...   \n\n                                         demographic  \n0  {'demographic_id': 'd14426b2-e0a0-519a-bea6-4f...  \n1  {'demographic_id': '7366952a-e8e7-56ec-9867-23...  \n2  {'demographic_id': 'f5229922-62e2-51d5-ba4e-94...  \n3  {'demographic_id': '87f2d711-4b09-5f94-863a-3f...  \n4  {'demographic_id': '401df5b3-f3c8-5816-a5ed-c0...  ",
      "text/html": "<div>\n<style scoped>\n    .dataframe tbody tr th:only-of-type {\n        vertical-align: middle;\n    }\n\n    .dataframe tbody tr th {\n        vertical-align: top;\n    }\n\n    .dataframe thead th {\n        text-align: right;\n    }\n</style>\n<table border=\"1\" class=\"dataframe\">\n  <thead>\n    <tr style=\"text-align: right;\">\n      <th></th>\n      <th>exposures</th>\n      <th>case_id</th>\n      <th>project</th>\n      <th>submitter_id</th>\n      <th>diagnoses</th>\n      <th>demographic</th>\n    </tr>\n  </thead>\n  <tbody>\n    <tr>\n      <th>0</th>\n      <td>[{'alcohol_history': 'Not Reported', 'updated_...</td>\n      <td>001cef41-ff86-4d3f-a140-a647ac4b10a1</td>\n      <td>{'project_id': 'TCGA-BRCA'}</td>\n      <td>TCGA-E2-A1IU</td>\n      <td>[{'synchronous_malignancy': 'No', 'ajcc_pathol...</td>\n      <td>{'demographic_id': 'd14426b2-e0a0-519a-bea6-4f...</td>\n    </tr>\n    <tr>\n      <th>1</th>\n      <td>[{'alcohol_history': 'Not Reported', 'updated_...</td>\n      <td>00a2d166-78c9-4687-a195-3d6315c27574</td>\n      <td>{'project_id': 'TCGA-BRCA'}</td>\n      <td>TCGA-AN-A0AM</td>\n      <td>[{'synchronous_malignancy': 'No', 'ajcc_pathol...</td>\n      <td>{'demographic_id': '7366952a-e8e7-56ec-9867-23...</td>\n    </tr>\n    <tr>\n      <th>2</th>\n      <td>[{'alcohol_history': 'Not Reported', 'updated_...</td>\n      <td>00b11ca8-8540-4a3d-b602-ec754b00230b</td>\n      <td>{'project_id': 'TCGA-BRCA'}</td>\n      <td>TCGA-LL-A440</td>\n      <td>[{'synchronous_malignancy': 'Not Reported', 'a...</td>\n      <td>{'demographic_id': 'f5229922-62e2-51d5-ba4e-94...</td>\n    </tr>\n    <tr>\n      <th>3</th>\n      <td>[{'alcohol_history': 'Not Reported', 'updated_...</td>\n      <td>011b9b2d-ebe5-42bf-9662-d922faccc7a1</td>\n      <td>{'project_id': 'TCGA-BRCA'}</td>\n      <td>TCGA-A7-A26E</td>\n      <td>[{'synchronous_malignancy': 'Not Reported', 'a...</td>\n      <td>{'demographic_id': '87f2d711-4b09-5f94-863a-3f...</td>\n    </tr>\n    <tr>\n      <th>4</th>\n      <td>[{'alcohol_history': 'Not Reported', 'updated_...</td>\n      <td>01263518-5f7c-49dc-8d7e-84b0c03a6a63</td>\n      <td>{'project_id': 'TCGA-BRCA'}</td>\n      <td>TCGA-A8-A07W</td>\n      <td>[{'synchronous_malignancy': 'No', 'ajcc_pathol...</td>\n      <td>{'demographic_id': '401df5b3-f3c8-5816-a5ed-c0...</td>\n    </tr>\n  </tbody>\n</table>\n</div>"
     },
     "execution_count": 6,
     "metadata": {},
     "output_type": "execute_result"
    }
   ],
   "source": [
    "clinical.head()"
   ]
  },
  {
   "cell_type": "code",
   "execution_count": 7,
   "id": "d8d0b9f1",
   "metadata": {},
   "outputs": [],
   "source": [
    "# In clinical DataFrame, 'exposures', 'diagnoses', and 'demographic' are each a series of dictionaries. \n",
    "# We'll unpack these and make them DataFrames\n",
    "\n",
    "exposures = pd.json_normalize([i[0] for i in clinical.exposures])\n",
    "demographic = pd.json_normalize([i for i in clinical.demographic])\n",
    "diagnoses = pd.json_normalize([i[0] for i in clinical.diagnoses])"
   ]
  },
  {
   "cell_type": "code",
   "execution_count": 8,
   "id": "cc82f085",
   "metadata": {},
   "outputs": [
    {
     "data": {
      "text/plain": "[{'updated_datetime': '2019-07-31T21:13:49.301117-05:00',\n  'submitter_id': 'TCGA-E2-A1IU_treatment',\n  'treatment_id': '27868bc3-23c8-5e85-a0e2-314e6cdf9b2a',\n  'treatment_type': 'Radiation Therapy, NOS',\n  'state': 'released',\n  'treatment_or_therapy': 'no'},\n {'updated_datetime': '2019-07-31T21:13:49.301117-05:00',\n  'submitter_id': 'TCGA-E2-A1IU_treatment_1',\n  'treatment_id': '5dd4fd8f-53e1-53cf-8729-4cf6034cbb98',\n  'treatment_type': 'Pharmaceutical Therapy, NOS',\n  'state': 'released',\n  'treatment_or_therapy': 'yes',\n  'created_datetime': '2019-04-28T13:29:03.550445-05:00'}]"
     },
     "execution_count": 8,
     "metadata": {},
     "output_type": "execute_result"
    }
   ],
   "source": [
    "# Within 'diagnoses', each element of the 'treatment' series is itself a list of exactly two dictionaries--\n",
    "# one for pharmaceutical treatment, the other for radiation therapy.\n",
    "# For example:\n",
    "diagnoses['treatments'][0]"
   ]
  },
  {
   "cell_type": "code",
   "execution_count": 9,
   "id": "77866de7",
   "metadata": {},
   "outputs": [
    {
     "data": {
      "text/plain": "  pharm_treatment radiation\n0               1         0\n1               0         0\n2               1         0\n3               1         1\n4               1         0",
      "text/html": "<div>\n<style scoped>\n    .dataframe tbody tr th:only-of-type {\n        vertical-align: middle;\n    }\n\n    .dataframe tbody tr th {\n        vertical-align: top;\n    }\n\n    .dataframe thead th {\n        text-align: right;\n    }\n</style>\n<table border=\"1\" class=\"dataframe\">\n  <thead>\n    <tr style=\"text-align: right;\">\n      <th></th>\n      <th>pharm_treatment</th>\n      <th>radiation</th>\n    </tr>\n  </thead>\n  <tbody>\n    <tr>\n      <th>0</th>\n      <td>1</td>\n      <td>0</td>\n    </tr>\n    <tr>\n      <th>1</th>\n      <td>0</td>\n      <td>0</td>\n    </tr>\n    <tr>\n      <th>2</th>\n      <td>1</td>\n      <td>0</td>\n    </tr>\n    <tr>\n      <th>3</th>\n      <td>1</td>\n      <td>1</td>\n    </tr>\n    <tr>\n      <th>4</th>\n      <td>1</td>\n      <td>0</td>\n    </tr>\n  </tbody>\n</table>\n</div>"
     },
     "execution_count": 9,
     "metadata": {},
     "output_type": "execute_result"
    }
   ],
   "source": [
    "# The only useful data here is whether radiation and/or pharmaceutical therapy was given. \n",
    "# I'll record this info into DataFrames called 'radiation' and 'pharm', which we'll combine\n",
    "# into a DataFrame called 'treatment'\n",
    "radiation = []\n",
    "pharm = []\n",
    "\n",
    "for i in diagnoses.index:\n",
    "    treat = pd.json_normalize(diagnoses['treatments'][i])\n",
    "    for j in treat.index:\n",
    "        #Populates 'radiation' with Boolean based on whether radiation therapy is 'yes' or 'no'\n",
    "        if 'radiation' in treat['treatment_type'][j].lower(): \n",
    "            radiation.append(treat.loc[j]['treatment_or_therapy']=='yes') \n",
    "        #Populates 'pharm' with Boolean based on whether pharm therapy is 'yes' or 'no'\n",
    "        elif 'pharm' in treat['treatment_type'][j].lower():\n",
    "            pharm.append(treat.loc[j]['treatment_or_therapy']=='yes')\n",
    "\n",
    "# Convert lists to DataFrames, reset to original indices\n",
    "radiation = pd.DataFrame(radiation)\n",
    "radiation = radiation.reset_index(drop=True) \n",
    "radiation = radiation.rename(columns={0:'radiation'}).replace({True:1, False:0})\n",
    "\n",
    "pharm = pd.DataFrame(pharm)\n",
    "pharm = pharm.reset_index(drop=True)\n",
    "pharm = pharm.rename(columns={0:'pharm_treatment'}).replace({True:1, False:0})\n",
    "\n",
    "# Combine into a DataFrame called 'treatment'\n",
    "treatment = pd.concat([pharm,radiation],axis=1)\n",
    "treatment.head()"
   ]
  },
  {
   "cell_type": "code",
   "execution_count": 10,
   "id": "0780d023",
   "metadata": {},
   "outputs": [],
   "source": [
    "# Now we merge all the DataFrames we've obtained from 'clinical' into a single DataFrame\n",
    "\n",
    "clinical_df = pd.concat([clinical['case_id'], clinical['submitter_id'], diagnoses.drop(['treatments'], axis=1), treatment, demographic], axis = 1)"
   ]
  },
  {
   "cell_type": "code",
   "execution_count": 11,
   "id": "e663232e",
   "metadata": {
    "scrolled": true
   },
   "outputs": [
    {
     "data": {
      "text/plain": "                                case_id  submitter_id synchronous_malignancy  \\\n0  001cef41-ff86-4d3f-a140-a647ac4b10a1  TCGA-E2-A1IU                     No   \n1  00a2d166-78c9-4687-a195-3d6315c27574  TCGA-AN-A0AM                     No   \n2  00b11ca8-8540-4a3d-b602-ec754b00230b  TCGA-LL-A440           Not Reported   \n3  011b9b2d-ebe5-42bf-9662-d922faccc7a1  TCGA-A7-A26E           Not Reported   \n4  01263518-5f7c-49dc-8d7e-84b0c03a6a63  TCGA-A8-A07W                     No   \n\n  ajcc_pathologic_stage  days_to_diagnosis last_known_disease_status  \\\n0              Stage IA                  0              not reported   \n1             Stage IIA                  0              not reported   \n2              Stage IA                  0              not reported   \n3            Stage IIIA                  0              not reported   \n4              Stage IV                  0              not reported   \n\n  tissue_or_organ_of_origin  days_to_last_follow_up  age_at_diagnosis  \\\n0               Breast, NOS                   337.0           22279.0   \n1               Breast, NOS                     5.0           20713.0   \n2               Breast, NOS                   759.0           22497.0   \n3               Breast, NOS                   954.0           26274.0   \n4               Breast, NOS                   304.0           27942.0   \n\n                  primary_diagnosis  ...          race vital_status  \\\n0  Infiltrating duct carcinoma, NOS  ...         white        Alive   \n1  Infiltrating duct carcinoma, NOS  ...         white        Alive   \n2            Lobular carcinoma, NOS  ...         white        Alive   \n3            Lobular carcinoma, NOS  ...         white        Alive   \n4  Infiltrating duct carcinoma, NOS  ...  not reported        Alive   \n\n                   updated_datetime age_at_index              submitter_id  \\\n0  2019-07-31T21:13:49.301117-05:00           60  TCGA-E2-A1IU_demographic   \n1  2019-07-31T21:13:58.038172-05:00           56  TCGA-AN-A0AM_demographic   \n2  2019-07-31T21:29:45.266135-05:00           61  TCGA-LL-A440_demographic   \n3  2019-07-31T15:26:11.511879-05:00           71  TCGA-A7-A26E_demographic   \n4  2019-07-31T21:14:01.028332-05:00           76  TCGA-A8-A07W_demographic   \n\n  days_to_birth     state year_of_birth days_to_death year_of_death  \n0      -22279.0  released        1950.0           NaN           NaN  \n1      -20713.0  released        1954.0           NaN           NaN  \n2      -22497.0  released        1951.0           NaN           NaN  \n3      -26274.0  released        1939.0           NaN           NaN  \n4      -27942.0  released        1933.0           NaN           NaN  \n\n[5 rows x 42 columns]",
      "text/html": "<div>\n<style scoped>\n    .dataframe tbody tr th:only-of-type {\n        vertical-align: middle;\n    }\n\n    .dataframe tbody tr th {\n        vertical-align: top;\n    }\n\n    .dataframe thead th {\n        text-align: right;\n    }\n</style>\n<table border=\"1\" class=\"dataframe\">\n  <thead>\n    <tr style=\"text-align: right;\">\n      <th></th>\n      <th>case_id</th>\n      <th>submitter_id</th>\n      <th>synchronous_malignancy</th>\n      <th>ajcc_pathologic_stage</th>\n      <th>days_to_diagnosis</th>\n      <th>last_known_disease_status</th>\n      <th>tissue_or_organ_of_origin</th>\n      <th>days_to_last_follow_up</th>\n      <th>age_at_diagnosis</th>\n      <th>primary_diagnosis</th>\n      <th>...</th>\n      <th>race</th>\n      <th>vital_status</th>\n      <th>updated_datetime</th>\n      <th>age_at_index</th>\n      <th>submitter_id</th>\n      <th>days_to_birth</th>\n      <th>state</th>\n      <th>year_of_birth</th>\n      <th>days_to_death</th>\n      <th>year_of_death</th>\n    </tr>\n  </thead>\n  <tbody>\n    <tr>\n      <th>0</th>\n      <td>001cef41-ff86-4d3f-a140-a647ac4b10a1</td>\n      <td>TCGA-E2-A1IU</td>\n      <td>No</td>\n      <td>Stage IA</td>\n      <td>0</td>\n      <td>not reported</td>\n      <td>Breast, NOS</td>\n      <td>337.0</td>\n      <td>22279.0</td>\n      <td>Infiltrating duct carcinoma, NOS</td>\n      <td>...</td>\n      <td>white</td>\n      <td>Alive</td>\n      <td>2019-07-31T21:13:49.301117-05:00</td>\n      <td>60</td>\n      <td>TCGA-E2-A1IU_demographic</td>\n      <td>-22279.0</td>\n      <td>released</td>\n      <td>1950.0</td>\n      <td>NaN</td>\n      <td>NaN</td>\n    </tr>\n    <tr>\n      <th>1</th>\n      <td>00a2d166-78c9-4687-a195-3d6315c27574</td>\n      <td>TCGA-AN-A0AM</td>\n      <td>No</td>\n      <td>Stage IIA</td>\n      <td>0</td>\n      <td>not reported</td>\n      <td>Breast, NOS</td>\n      <td>5.0</td>\n      <td>20713.0</td>\n      <td>Infiltrating duct carcinoma, NOS</td>\n      <td>...</td>\n      <td>white</td>\n      <td>Alive</td>\n      <td>2019-07-31T21:13:58.038172-05:00</td>\n      <td>56</td>\n      <td>TCGA-AN-A0AM_demographic</td>\n      <td>-20713.0</td>\n      <td>released</td>\n      <td>1954.0</td>\n      <td>NaN</td>\n      <td>NaN</td>\n    </tr>\n    <tr>\n      <th>2</th>\n      <td>00b11ca8-8540-4a3d-b602-ec754b00230b</td>\n      <td>TCGA-LL-A440</td>\n      <td>Not Reported</td>\n      <td>Stage IA</td>\n      <td>0</td>\n      <td>not reported</td>\n      <td>Breast, NOS</td>\n      <td>759.0</td>\n      <td>22497.0</td>\n      <td>Lobular carcinoma, NOS</td>\n      <td>...</td>\n      <td>white</td>\n      <td>Alive</td>\n      <td>2019-07-31T21:29:45.266135-05:00</td>\n      <td>61</td>\n      <td>TCGA-LL-A440_demographic</td>\n      <td>-22497.0</td>\n      <td>released</td>\n      <td>1951.0</td>\n      <td>NaN</td>\n      <td>NaN</td>\n    </tr>\n    <tr>\n      <th>3</th>\n      <td>011b9b2d-ebe5-42bf-9662-d922faccc7a1</td>\n      <td>TCGA-A7-A26E</td>\n      <td>Not Reported</td>\n      <td>Stage IIIA</td>\n      <td>0</td>\n      <td>not reported</td>\n      <td>Breast, NOS</td>\n      <td>954.0</td>\n      <td>26274.0</td>\n      <td>Lobular carcinoma, NOS</td>\n      <td>...</td>\n      <td>white</td>\n      <td>Alive</td>\n      <td>2019-07-31T15:26:11.511879-05:00</td>\n      <td>71</td>\n      <td>TCGA-A7-A26E_demographic</td>\n      <td>-26274.0</td>\n      <td>released</td>\n      <td>1939.0</td>\n      <td>NaN</td>\n      <td>NaN</td>\n    </tr>\n    <tr>\n      <th>4</th>\n      <td>01263518-5f7c-49dc-8d7e-84b0c03a6a63</td>\n      <td>TCGA-A8-A07W</td>\n      <td>No</td>\n      <td>Stage IV</td>\n      <td>0</td>\n      <td>not reported</td>\n      <td>Breast, NOS</td>\n      <td>304.0</td>\n      <td>27942.0</td>\n      <td>Infiltrating duct carcinoma, NOS</td>\n      <td>...</td>\n      <td>not reported</td>\n      <td>Alive</td>\n      <td>2019-07-31T21:14:01.028332-05:00</td>\n      <td>76</td>\n      <td>TCGA-A8-A07W_demographic</td>\n      <td>-27942.0</td>\n      <td>released</td>\n      <td>1933.0</td>\n      <td>NaN</td>\n      <td>NaN</td>\n    </tr>\n  </tbody>\n</table>\n<p>5 rows × 42 columns</p>\n</div>"
     },
     "execution_count": 11,
     "metadata": {},
     "output_type": "execute_result"
    }
   ],
   "source": [
    "clinical_df.head()"
   ]
  },
  {
   "cell_type": "code",
   "execution_count": 12,
   "id": "884b68e6",
   "metadata": {},
   "outputs": [
    {
     "name": "stdout",
     "output_type": "stream",
     "text": [
      "<class 'pandas.core.series.Series'>\n",
      "RangeIndex: 1006 entries, 0 to 1005\n",
      "Series name: year_of_birth\n",
      "Non-Null Count  Dtype  \n",
      "--------------  -----  \n",
      "1004 non-null   float64\n",
      "dtypes: float64(1)\n",
      "memory usage: 8.0 KB\n"
     ]
    }
   ],
   "source": [
    "clinical_df['year_of_birth'].info()"
   ]
  },
  {
   "cell_type": "code",
   "execution_count": 13,
   "id": "a073c155",
   "metadata": {
    "scrolled": true
   },
   "outputs": [],
   "source": [
    "# Let's drop columns that are not very useful \n",
    "# (these columns either have the same value for all/almost all entries, are irrelevant, or are redundant with other cols)\n",
    "\n",
    "drop_cols = ['days_to_diagnosis','gender','site_of_resection_or_biopsy','last_known_disease_status','morphology','synchronous_malignancy','tissue_or_organ_of_origin','state','submitter_id','classification_of_tumor','diagnosis_id','icd_10_code','tumor_grade','progression_or_recurrence','demographic_id','updated_datetime','age_at_diagnosis','days_to_birth','year_of_death']"
   ]
  },
  {
   "cell_type": "code",
   "execution_count": 14,
   "id": "02c4f3d2",
   "metadata": {},
   "outputs": [],
   "source": [
    "clinical_df.drop(drop_cols,inplace=True,axis=1)"
   ]
  },
  {
   "cell_type": "code",
   "execution_count": 15,
   "id": "547234de",
   "metadata": {
    "scrolled": true
   },
   "outputs": [
    {
     "name": "stdout",
     "output_type": "stream",
     "text": [
      "<class 'pandas.core.frame.DataFrame'>\n",
      "RangeIndex: 1006 entries, 0 to 1005\n",
      "Data columns (total 19 columns):\n",
      " #   Column                       Non-Null Count  Dtype  \n",
      "---  ------                       --------------  -----  \n",
      " 0   case_id                      1006 non-null   object \n",
      " 1   ajcc_pathologic_stage        995 non-null    object \n",
      " 2   days_to_last_follow_up       909 non-null    float64\n",
      " 3   primary_diagnosis            1006 non-null   object \n",
      " 4   prior_malignancy             1006 non-null   object \n",
      " 5   year_of_diagnosis            1004 non-null   float64\n",
      " 6   prior_treatment              1006 non-null   object \n",
      " 7   ajcc_staging_system_edition  870 non-null    object \n",
      " 8   ajcc_pathologic_t            1006 non-null   object \n",
      " 9   ajcc_pathologic_n            1006 non-null   object \n",
      " 10  ajcc_pathologic_m            1006 non-null   object \n",
      " 11  pharm_treatment              1006 non-null   object \n",
      " 12  radiation                    1006 non-null   object \n",
      " 13  ethnicity                    1006 non-null   object \n",
      " 14  race                         1006 non-null   object \n",
      " 15  vital_status                 1006 non-null   object \n",
      " 16  age_at_index                 1006 non-null   int64  \n",
      " 17  year_of_birth                1004 non-null   float64\n",
      " 18  days_to_death                138 non-null    float64\n",
      "dtypes: float64(4), int64(1), object(14)\n",
      "memory usage: 149.5+ KB\n"
     ]
    }
   ],
   "source": [
    "# We can take a look at what's left. \n",
    "# Some of these columns (case_id, ajcc_staging_system_edition, etc.) we may still exclude from the model, \n",
    "# but are left as reference\n",
    "\n",
    "clinical_df.info()"
   ]
  },
  {
   "cell_type": "markdown",
   "id": "d3fd4f20",
   "metadata": {},
   "source": [
    "### Now we'll clean it up. First, we deal with 'days_to_death'. These entries are only non-null if the patient's vital status is 'Dead'."
   ]
  },
  {
   "cell_type": "code",
   "execution_count": 16,
   "id": "a567722c",
   "metadata": {},
   "outputs": [],
   "source": [
    "# We'll make 'days_to_last_follow_up' for patients with vital status 'Dead' equal to their \n",
    "# 'days_to_death', then remove the 'days_to_death' column\n",
    "\n",
    "# Isolate days to death rows\n",
    "iso_days_death = pd.DataFrame(clinical_df[clinical_df['vital_status']=='Dead']['days_to_death'])\n",
    "\n",
    "# Re-label the single column in iso_days_death as 'days_to_last_follow_up', so we can use .update \n",
    "iso_days_death = iso_days_death.rename(columns={\"days_to_death\": \"days_to_last_follow_up\"})\n",
    "\n",
    "# Update 'days_to_last_follow_up' with 'days_to_death' using .update\n",
    "clinical_df.update(iso_days_death)\n",
    "\n",
    "clinical_df.drop(['days_to_death'],inplace=True,axis=1)"
   ]
  },
  {
   "cell_type": "code",
   "execution_count": 17,
   "id": "5fe6cd7f",
   "metadata": {},
   "outputs": [],
   "source": [
    "# There's an entry with days_to_last_follow_up < 0; we'll replace that with 0\n",
    "clinical_df.loc[clinical_df['days_to_last_follow_up'] < 0, ['days_to_last_follow_up']] = 0"
   ]
  },
  {
   "cell_type": "markdown",
   "id": "4cb34059",
   "metadata": {},
   "source": [
    "### Next, we clean up 'ajcc_pathologic_stage'. We address unknown data, then assign each stage an ordinal."
   ]
  },
  {
   "cell_type": "code",
   "execution_count": 18,
   "id": "91c0d204",
   "metadata": {
    "scrolled": true
   },
   "outputs": [
    {
     "data": {
      "text/plain": "ajcc_pathologic_stage\nStage IIA     330\nStage IIB     239\nStage IIIA    141\nStage IA       80\nStage I        80\nStage IIIC     60\nStage IIIB     23\nStage IV       18\nStage X        12\nStage IB        5\nStage II        5\nStage III       2\nName: count, dtype: int64"
     },
     "execution_count": 18,
     "metadata": {},
     "output_type": "execute_result"
    }
   ],
   "source": [
    "clinical_df['ajcc_pathologic_stage'].value_counts()"
   ]
  },
  {
   "cell_type": "code",
   "execution_count": 19,
   "id": "9a69dca5",
   "metadata": {},
   "outputs": [],
   "source": [
    "# First we'll deal with 23 entries which have unknown 'ajcc_pathologic_stage' ('NaN' or 'Stage X').\n",
    "# For 8 of these, there's enough (TNM) information to infer the pathologic stage\n",
    "# according to: https://www.cancer.net/cancer-types/breast-cancer/stages. \n",
    "\n",
    "clinical_df.loc[[267, 999],['ajcc_pathologic_stage']] = 'Stage IIA'\n",
    "clinical_df.loc[[279],['ajcc_pathologic_stage']] = 'Stage IIB'\n",
    "clinical_df.loc[[350],['ajcc_pathologic_stage']] = 'Stage IIIA'\n",
    "clinical_df.loc[[618, 851],['ajcc_pathologic_stage']] = 'Stage IIIB'\n",
    "clinical_df.loc[[94, 793],['ajcc_pathologic_stage']] = 'Stage IV'\n",
    "\n",
    "# For the rest, the pathologic stage is unknown and can't be inferred. We drop these 15:\n",
    "\n",
    "clinical_df.drop(clinical_df[(clinical_df['ajcc_pathologic_stage'].isnull()) | (clinical_df['ajcc_pathologic_stage']=='Stage X')].index,inplace=True)"
   ]
  },
  {
   "cell_type": "code",
   "execution_count": 20,
   "id": "48efc1e5",
   "metadata": {
    "scrolled": true
   },
   "outputs": [],
   "source": [
    "# Some entries don't provide a sub-stage (i.e. 'Stage I' rather than 'IA' or 'IB'). \n",
    "# We again use the TNM criteria to classify these into the appropriate sub-stage, when possible.\n",
    "\n",
    "clinical_df.loc[clinical_df.loc[clinical_df['ajcc_pathologic_stage']=='Stage I'].index,['ajcc_pathologic_stage']] = 'Stage IA'\n",
    "\n",
    "clinical_df.loc[[52, 358, 916],['ajcc_pathologic_stage']] = 'Stage IIA'\n",
    "clinical_df.loc[[37, 813],['ajcc_pathologic_stage']] = 'Stage IIB'\n",
    "\n",
    "clinical_df.loc[[111],['ajcc_pathologic_stage']] = 'Stage IIIA'\n",
    "clinical_df.loc[[221],['ajcc_pathologic_stage']] = 'Stage IIIC'\n",
    "\n",
    "# For simplicity, we remove 3 elements in 'Stage I' that can neither be classified into 'IA' or 'IB'\n",
    "clinical_df.drop(clinical_df[(clinical_df['ajcc_pathologic_stage']=='Stage I') & (clinical_df['ajcc_pathologic_n']=='NX')].index,inplace=True)"
   ]
  },
  {
   "cell_type": "code",
   "execution_count": 21,
   "id": "289eef34",
   "metadata": {},
   "outputs": [],
   "source": [
    "# Replace pathologic stage with ordinal values\n",
    "\n",
    "clinical_df = clinical_df.replace(['Stage IA','Stage IB','Stage IIA', 'Stage IIB', 'Stage IIIA', 'Stage IIIB', 'Stage IIIC', 'Stage IV'],[1, 2, 3, 4, 5, 6, 7, 8])"
   ]
  },
  {
   "cell_type": "code",
   "execution_count": 22,
   "id": "541e6149",
   "metadata": {},
   "outputs": [
    {
     "name": "stdout",
     "output_type": "stream",
     "text": [
      "<class 'pandas.core.frame.DataFrame'>\n",
      "Index: 991 entries, 0 to 1005\n",
      "Data columns (total 18 columns):\n",
      " #   Column                       Non-Null Count  Dtype  \n",
      "---  ------                       --------------  -----  \n",
      " 0   case_id                      991 non-null    object \n",
      " 1   ajcc_pathologic_stage        991 non-null    object \n",
      " 2   days_to_last_follow_up       991 non-null    float64\n",
      " 3   primary_diagnosis            991 non-null    object \n",
      " 4   prior_malignancy             991 non-null    object \n",
      " 5   year_of_diagnosis            989 non-null    float64\n",
      " 6   prior_treatment              991 non-null    object \n",
      " 7   ajcc_staging_system_edition  857 non-null    object \n",
      " 8   ajcc_pathologic_t            991 non-null    object \n",
      " 9   ajcc_pathologic_n            991 non-null    object \n",
      " 10  ajcc_pathologic_m            991 non-null    object \n",
      " 11  pharm_treatment              991 non-null    object \n",
      " 12  radiation                    991 non-null    object \n",
      " 13  ethnicity                    991 non-null    object \n",
      " 14  race                         991 non-null    object \n",
      " 15  vital_status                 991 non-null    object \n",
      " 16  age_at_index                 991 non-null    int64  \n",
      " 17  year_of_birth                989 non-null    float64\n",
      "dtypes: float64(3), int64(1), object(14)\n",
      "memory usage: 147.1+ KB\n"
     ]
    }
   ],
   "source": [
    "clinical_df.info()"
   ]
  },
  {
   "cell_type": "markdown",
   "id": "8216388c",
   "metadata": {},
   "source": [
    "### Further preprocessing performed to simplify the levels in some variables are:\n",
    "\n",
    "Reclassifictaion of  'primary_diagnosis' into two categories: 'Infiltrating duct carcinoma, NOS'-(n=745), 'Lobular carcinoma, NOS'-(n=191), and others **--done**\\\n",
    "\n",
    "Replacing missing values of two columns (year_of_diagnosis, year_of_birth) with their mean"
   ]
  },
  {
   "cell_type": "code",
   "execution_count": 23,
   "outputs": [],
   "source": [
    "clinical_df.primary_diagnosis = pd.DataFrame([i if i in ['Infiltrating duct carcinoma, NOS','Lobular carcinoma, NOS'] else 'others' for i in clinical_df.primary_diagnosis],\n",
    "                                              index=clinical_df.index)\n",
    "\n",
    "# Replace missing values with the mean\n",
    "clinical_df['year_of_diagnosis'] = clinical_df['year_of_diagnosis'].fillna(clinical_df['year_of_diagnosis'].mean())\n",
    "clinical_df['year_of_birth'] = clinical_df['year_of_birth'].fillna(clinical_df['year_of_birth'].mean())"
   ],
   "metadata": {
    "collapsed": false
   }
  },
  {
   "cell_type": "code",
   "execution_count": 24,
   "outputs": [],
   "source": [
    "clinical_df.drop(columns=['ajcc_staging_system_edition', 'ajcc_pathologic_t', 'ajcc_pathologic_m', 'ajcc_pathologic_n', 'days_to_last_follow_up'], inplace=True)"
   ],
   "metadata": {
    "collapsed": false
   }
  },
  {
   "cell_type": "code",
   "execution_count": 25,
   "outputs": [
    {
     "data": {
      "text/plain": "                                   case_id ajcc_pathologic_stage  \\\n0     001cef41-ff86-4d3f-a140-a647ac4b10a1                     1   \n1     00a2d166-78c9-4687-a195-3d6315c27574                     3   \n2     00b11ca8-8540-4a3d-b602-ec754b00230b                     1   \n3     011b9b2d-ebe5-42bf-9662-d922faccc7a1                     5   \n4     01263518-5f7c-49dc-8d7e-84b0c03a6a63                     8   \n...                                    ...                   ...   \n1001  fe15c48b-116d-461e-9b40-68514730fd18                     1   \n1002  fe2cd610-aa52-4789-ac62-7683281bb22f                     8   \n1003  fe7f74b8-20f4-4471-91dc-4cca8c68e5c0                     1   \n1004  fec0da58-1047-44d2-b6d1-c18cceed43dc                     3   \n1005  ff0f875f-113a-4c0f-8c0a-4259cd496e6d                     4   \n\n                     primary_diagnosis prior_malignancy  year_of_diagnosis  \\\n0     Infiltrating duct carcinoma, NOS               no             2010.0   \n1     Infiltrating duct carcinoma, NOS               no             2010.0   \n2               Lobular carcinoma, NOS              yes             2012.0   \n3               Lobular carcinoma, NOS              yes             2010.0   \n4     Infiltrating duct carcinoma, NOS               no             2009.0   \n...                                ...              ...                ...   \n1001  Infiltrating duct carcinoma, NOS               no             2003.0   \n1002  Infiltrating duct carcinoma, NOS               no             2013.0   \n1003  Infiltrating duct carcinoma, NOS               no             2009.0   \n1004            Lobular carcinoma, NOS               no             2011.0   \n1005  Infiltrating duct carcinoma, NOS               no             2010.0   \n\n     prior_treatment pharm_treatment radiation               ethnicity  \\\n0                 No               1         0  not hispanic or latino   \n1                 No               0         0  not hispanic or latino   \n2                 No               1         0  not hispanic or latino   \n3                 No               1         1  not hispanic or latino   \n4                 No               1         0            not reported   \n...              ...             ...       ...                     ...   \n1001              No               1         1  not hispanic or latino   \n1002              No               0         0  not hispanic or latino   \n1003              No               1         0  not hispanic or latino   \n1004              No               1         1  not hispanic or latino   \n1005              No               1         0  not hispanic or latino   \n\n                           race vital_status  age_at_index  year_of_birth  \n0                         white        Alive            60         1950.0  \n1                         white        Alive            56         1954.0  \n2                         white        Alive            61         1951.0  \n3                         white        Alive            71         1939.0  \n4                  not reported        Alive            76         1933.0  \n...                         ...          ...           ...            ...  \n1001                      white        Alive            60         1943.0  \n1002  black or african american        Alive            35         1978.0  \n1003  black or african american        Alive            46         1963.0  \n1004                      white        Alive            71         1940.0  \n1005                      asian        Alive            58         1952.0  \n\n[991 rows x 13 columns]",
      "text/html": "<div>\n<style scoped>\n    .dataframe tbody tr th:only-of-type {\n        vertical-align: middle;\n    }\n\n    .dataframe tbody tr th {\n        vertical-align: top;\n    }\n\n    .dataframe thead th {\n        text-align: right;\n    }\n</style>\n<table border=\"1\" class=\"dataframe\">\n  <thead>\n    <tr style=\"text-align: right;\">\n      <th></th>\n      <th>case_id</th>\n      <th>ajcc_pathologic_stage</th>\n      <th>primary_diagnosis</th>\n      <th>prior_malignancy</th>\n      <th>year_of_diagnosis</th>\n      <th>prior_treatment</th>\n      <th>pharm_treatment</th>\n      <th>radiation</th>\n      <th>ethnicity</th>\n      <th>race</th>\n      <th>vital_status</th>\n      <th>age_at_index</th>\n      <th>year_of_birth</th>\n    </tr>\n  </thead>\n  <tbody>\n    <tr>\n      <th>0</th>\n      <td>001cef41-ff86-4d3f-a140-a647ac4b10a1</td>\n      <td>1</td>\n      <td>Infiltrating duct carcinoma, NOS</td>\n      <td>no</td>\n      <td>2010.0</td>\n      <td>No</td>\n      <td>1</td>\n      <td>0</td>\n      <td>not hispanic or latino</td>\n      <td>white</td>\n      <td>Alive</td>\n      <td>60</td>\n      <td>1950.0</td>\n    </tr>\n    <tr>\n      <th>1</th>\n      <td>00a2d166-78c9-4687-a195-3d6315c27574</td>\n      <td>3</td>\n      <td>Infiltrating duct carcinoma, NOS</td>\n      <td>no</td>\n      <td>2010.0</td>\n      <td>No</td>\n      <td>0</td>\n      <td>0</td>\n      <td>not hispanic or latino</td>\n      <td>white</td>\n      <td>Alive</td>\n      <td>56</td>\n      <td>1954.0</td>\n    </tr>\n    <tr>\n      <th>2</th>\n      <td>00b11ca8-8540-4a3d-b602-ec754b00230b</td>\n      <td>1</td>\n      <td>Lobular carcinoma, NOS</td>\n      <td>yes</td>\n      <td>2012.0</td>\n      <td>No</td>\n      <td>1</td>\n      <td>0</td>\n      <td>not hispanic or latino</td>\n      <td>white</td>\n      <td>Alive</td>\n      <td>61</td>\n      <td>1951.0</td>\n    </tr>\n    <tr>\n      <th>3</th>\n      <td>011b9b2d-ebe5-42bf-9662-d922faccc7a1</td>\n      <td>5</td>\n      <td>Lobular carcinoma, NOS</td>\n      <td>yes</td>\n      <td>2010.0</td>\n      <td>No</td>\n      <td>1</td>\n      <td>1</td>\n      <td>not hispanic or latino</td>\n      <td>white</td>\n      <td>Alive</td>\n      <td>71</td>\n      <td>1939.0</td>\n    </tr>\n    <tr>\n      <th>4</th>\n      <td>01263518-5f7c-49dc-8d7e-84b0c03a6a63</td>\n      <td>8</td>\n      <td>Infiltrating duct carcinoma, NOS</td>\n      <td>no</td>\n      <td>2009.0</td>\n      <td>No</td>\n      <td>1</td>\n      <td>0</td>\n      <td>not reported</td>\n      <td>not reported</td>\n      <td>Alive</td>\n      <td>76</td>\n      <td>1933.0</td>\n    </tr>\n    <tr>\n      <th>...</th>\n      <td>...</td>\n      <td>...</td>\n      <td>...</td>\n      <td>...</td>\n      <td>...</td>\n      <td>...</td>\n      <td>...</td>\n      <td>...</td>\n      <td>...</td>\n      <td>...</td>\n      <td>...</td>\n      <td>...</td>\n      <td>...</td>\n    </tr>\n    <tr>\n      <th>1001</th>\n      <td>fe15c48b-116d-461e-9b40-68514730fd18</td>\n      <td>1</td>\n      <td>Infiltrating duct carcinoma, NOS</td>\n      <td>no</td>\n      <td>2003.0</td>\n      <td>No</td>\n      <td>1</td>\n      <td>1</td>\n      <td>not hispanic or latino</td>\n      <td>white</td>\n      <td>Alive</td>\n      <td>60</td>\n      <td>1943.0</td>\n    </tr>\n    <tr>\n      <th>1002</th>\n      <td>fe2cd610-aa52-4789-ac62-7683281bb22f</td>\n      <td>8</td>\n      <td>Infiltrating duct carcinoma, NOS</td>\n      <td>no</td>\n      <td>2013.0</td>\n      <td>No</td>\n      <td>0</td>\n      <td>0</td>\n      <td>not hispanic or latino</td>\n      <td>black or african american</td>\n      <td>Alive</td>\n      <td>35</td>\n      <td>1978.0</td>\n    </tr>\n    <tr>\n      <th>1003</th>\n      <td>fe7f74b8-20f4-4471-91dc-4cca8c68e5c0</td>\n      <td>1</td>\n      <td>Infiltrating duct carcinoma, NOS</td>\n      <td>no</td>\n      <td>2009.0</td>\n      <td>No</td>\n      <td>1</td>\n      <td>0</td>\n      <td>not hispanic or latino</td>\n      <td>black or african american</td>\n      <td>Alive</td>\n      <td>46</td>\n      <td>1963.0</td>\n    </tr>\n    <tr>\n      <th>1004</th>\n      <td>fec0da58-1047-44d2-b6d1-c18cceed43dc</td>\n      <td>3</td>\n      <td>Lobular carcinoma, NOS</td>\n      <td>no</td>\n      <td>2011.0</td>\n      <td>No</td>\n      <td>1</td>\n      <td>1</td>\n      <td>not hispanic or latino</td>\n      <td>white</td>\n      <td>Alive</td>\n      <td>71</td>\n      <td>1940.0</td>\n    </tr>\n    <tr>\n      <th>1005</th>\n      <td>ff0f875f-113a-4c0f-8c0a-4259cd496e6d</td>\n      <td>4</td>\n      <td>Infiltrating duct carcinoma, NOS</td>\n      <td>no</td>\n      <td>2010.0</td>\n      <td>No</td>\n      <td>1</td>\n      <td>0</td>\n      <td>not hispanic or latino</td>\n      <td>asian</td>\n      <td>Alive</td>\n      <td>58</td>\n      <td>1952.0</td>\n    </tr>\n  </tbody>\n</table>\n<p>991 rows × 13 columns</p>\n</div>"
     },
     "execution_count": 25,
     "metadata": {},
     "output_type": "execute_result"
    }
   ],
   "source": [
    "clinical_df"
   ],
   "metadata": {
    "collapsed": false
   }
  },
  {
   "cell_type": "code",
   "execution_count": 26,
   "id": "b7574646",
   "metadata": {},
   "outputs": [],
   "source": [
    "# Finally, let's save the processed data to csv\n",
    "\n",
    "clinical_df.to_csv('clinical_data.csv', index=False)"
   ]
  },
  {
   "cell_type": "markdown",
   "id": "1f0e7ec5",
   "metadata": {},
   "source": [
    "That's all the preprocessing for now."
   ]
  }
 ],
 "metadata": {
  "kernelspec": {
   "display_name": "Python 3 (ipykernel)",
   "language": "python",
   "name": "python3"
  },
  "language_info": {
   "codemirror_mode": {
    "name": "ipython",
    "version": 3
   },
   "file_extension": ".py",
   "mimetype": "text/x-python",
   "name": "python",
   "nbconvert_exporter": "python",
   "pygments_lexer": "ipython3",
   "version": "3.11.7"
  }
 },
 "nbformat": 4,
 "nbformat_minor": 5
}
