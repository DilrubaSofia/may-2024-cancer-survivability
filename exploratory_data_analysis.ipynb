{
 "cells": [
  {
   "cell_type": "code",
   "execution_count": 2,
   "metadata": {
    "collapsed": true
   },
   "outputs": [],
   "source": [
    "import pandas as pd\n",
    "import matplotlib.pyplot as plt\n",
    "import seaborn as sns\n",
    "import numpy as np\n"
   ]
  },
  {
   "cell_type": "code",
   "execution_count": 3,
   "outputs": [
    {
     "data": {
      "text/plain": "                                   case_id submitter_id_x alcohol_history  \\\n0     001cef41-ff86-4d3f-a140-a647ac4b10a1   TCGA-E2-A1IU    Not Reported   \n2     00b11ca8-8540-4a3d-b602-ec754b00230b   TCGA-LL-A440    Not Reported   \n3     011b9b2d-ebe5-42bf-9662-d922faccc7a1   TCGA-A7-A26E    Not Reported   \n4     01263518-5f7c-49dc-8d7e-84b0c03a6a63   TCGA-A8-A07W    Not Reported   \n5     0130d616-885e-4a6c-9d03-2f17dd692a05   TCGA-D8-A1XY    Not Reported   \n...                                    ...            ...             ...   \n1001  fe15c48b-116d-461e-9b40-68514730fd18   TCGA-A2-A0CP    Not Reported   \n1002  fe2cd610-aa52-4789-ac62-7683281bb22f   TCGA-PL-A8LX    Not Reported   \n1003  fe7f74b8-20f4-4471-91dc-4cca8c68e5c0   TCGA-A2-A3XZ    Not Reported   \n1004  fec0da58-1047-44d2-b6d1-c18cceed43dc   TCGA-E9-A295    Not Reported   \n1005  ff0f875f-113a-4c0f-8c0a-4259cd496e6d   TCGA-C8-A26W    Not Reported   \n\n                    updated_datetime_x                           exposure_id  \\\n0     2019-07-31T21:13:49.301117-05:00  c325fd67-6023-5c43-85c2-4ed779fb9473   \n2     2019-07-31T21:29:45.266135-05:00  abbef123-c781-5180-9013-c950101337e4   \n3     2019-07-31T15:26:11.511879-05:00  ee13c559-7d80-5d45-bfa8-1d3bdfdcca7e   \n4     2019-07-31T21:14:01.028332-05:00  89020df8-974e-518a-94c8-f618c1acaac2   \n5     2019-07-31T21:29:48.087201-05:00  bb2b5b6f-e375-590c-ac9f-ebf3c76e611d   \n...                                ...                                   ...   \n1001  2019-07-31T22:06:27.807078-05:00  8356c601-d77c-5391-a99b-af17a88b689a   \n1002  2019-07-31T22:06:41.984705-05:00  716dfe57-a12d-517b-b1d8-8b6bedf09f9e   \n1003  2019-07-31T22:06:45.034028-05:00  4222a617-4e41-5c5b-bb17-448e71eebd42   \n1004  2019-07-31T22:06:48.090699-05:00  22ee1967-1dac-530e-b939-b19c02814692   \n1005  2019-07-31T22:06:51.813804-05:00  8a5d83ff-b566-52ae-b784-92cd7775bccf   \n\n       state_x                        demographic_id               ethnicity  \\\n0     released  d14426b2-e0a0-519a-bea6-4fe07d11ce95  not hispanic or latino   \n2     released  f5229922-62e2-51d5-ba4e-9489554c6a49  not hispanic or latino   \n3     released  87f2d711-4b09-5f94-863a-3f09c58d6135  not hispanic or latino   \n4     released  401df5b3-f3c8-5816-a5ed-c03ebc495f78            not reported   \n5     released  cec6dece-e3af-55d6-b48c-151c58b09a93  not hispanic or latino   \n...        ...                                   ...                     ...   \n1001  released  bb8d0641-2529-5ec3-838a-3c655e93fd16  not hispanic or latino   \n1002  released  562fee57-d81f-52ce-8b4e-22792b17435f  not hispanic or latino   \n1003  released  950c1911-2466-5e9c-9953-768bd9b6d840  not hispanic or latino   \n1004  released  dc38f171-af3e-5f95-8c74-0d4704f606fd  not hispanic or latino   \n1005  released  887e4eb3-2340-515b-b5b6-7242a16cbd51  not hispanic or latino   \n\n      gender                       race  ...  \\\n0     female                      white  ...   \n2     female                      white  ...   \n3     female                      white  ...   \n4     female               not reported  ...   \n5     female                      white  ...   \n...      ...                        ...  ...   \n1001  female                      white  ...   \n1002  female  black or african american  ...   \n1003  female  black or african american  ...   \n1004  female                      white  ...   \n1005  female                      asian  ...   \n\n                                 sample_id           sample_type  \\\n0     81ef5a2d-dcb8-49fa-a9ef-c5520d703e18         Primary Tumor   \n2     77ff059d-7807-4cf1-88cd-a2da005167eb         Primary Tumor   \n3     a31f72f8-15c5-40af-a906-98eac28181d9         Primary Tumor   \n4     154e5ac5-ccdf-48bb-909b-2aacb63ca385         Primary Tumor   \n5     37cc2cf6-b57d-4f29-8e50-a5fb2b81826e         Primary Tumor   \n...                                    ...                   ...   \n1001  195dfb4a-fc19-413f-8266-f4825a5865be  Blood Derived Normal   \n1002  64149d95-1ec6-47eb-985b-0f67252d7f26         Primary Tumor   \n1003  0da16b25-4d49-47e9-b927-1ab6a3a5768f         Primary Tumor   \n1004  09c07618-67e0-415a-b542-2176de1482ba         Primary Tumor   \n1005  317b72a8-0332-4db8-b9d1-9a26d9907a24         Primary Tumor   \n\n      oct_embedded         specimen_type                updated_datetime_y  \\\n0               No          Solid Tissue  2023-11-08T11:17:33.420637-06:00   \n2               No          Solid Tissue  2023-11-08T11:17:33.420637-06:00   \n3               No          Solid Tissue  2023-11-08T11:17:33.420637-06:00   \n4               No          Solid Tissue  2023-11-08T11:17:33.420637-06:00   \n5               No          Solid Tissue  2023-11-08T11:17:33.420637-06:00   \n...            ...                   ...                               ...   \n1001         false  Peripheral Blood NOS  2023-04-28T11:48:33.967681-05:00   \n1002         false          Solid Tissue  2023-11-08T11:21:17.930864-06:00   \n1003            No          Solid Tissue  2023-11-08T11:17:33.420637-06:00   \n1004            No          Solid Tissue  2023-11-08T11:17:33.420637-06:00   \n1005          true          Solid Tissue  2023-11-08T11:17:33.420637-06:00   \n\n       state_y is_ffpe  preservation_method tissue_type  \\\n0     released    True                 FFPE       Tumor   \n2     released    True                 FFPE       Tumor   \n3     released    True                 FFPE       Tumor   \n4     released    True                 FFPE       Tumor   \n5     released    True                 FFPE       Tumor   \n...        ...     ...                  ...         ...   \n1001  released   False              Unknown      Normal   \n1002  released   False                 FFPE       Tumor   \n1003  released    True                 FFPE       Tumor   \n1004  released    True                 FFPE       Tumor   \n1005  released   False                  OCT       Tumor   \n\n                                portion_id  \n0     5458dfd2-8926-5965-98e9-4b17733a94ee  \n2     9ba91156-b858-5a2d-bb74-9764e1dd2d90  \n3     9ebf78e1-e5fe-568b-9861-eb211d4d980d  \n4     ee8e059b-32d6-5ba5-bea9-f03585877963  \n5     1814d808-067a-5531-9598-da70e60dc899  \n...                                    ...  \n1001  50c0fc4d-12eb-4d2e-b04b-9555adcb4b2f  \n1002  22b100c7-397e-4940-8a06-94fa7d3f46dc  \n1003  4f237609-d920-5758-a2da-674818ee956d  \n1004  aac2e578-5aa1-5b35-9105-97754d130bb5  \n1005  4c5440c5-3eb7-4bfc-a5e7-51e1a55aa219  \n\n[760 rows x 55 columns]",
      "text/html": "<div>\n<style scoped>\n    .dataframe tbody tr th:only-of-type {\n        vertical-align: middle;\n    }\n\n    .dataframe tbody tr th {\n        vertical-align: top;\n    }\n\n    .dataframe thead th {\n        text-align: right;\n    }\n</style>\n<table border=\"1\" class=\"dataframe\">\n  <thead>\n    <tr style=\"text-align: right;\">\n      <th></th>\n      <th>case_id</th>\n      <th>submitter_id_x</th>\n      <th>alcohol_history</th>\n      <th>updated_datetime_x</th>\n      <th>exposure_id</th>\n      <th>state_x</th>\n      <th>demographic_id</th>\n      <th>ethnicity</th>\n      <th>gender</th>\n      <th>race</th>\n      <th>...</th>\n      <th>sample_id</th>\n      <th>sample_type</th>\n      <th>oct_embedded</th>\n      <th>specimen_type</th>\n      <th>updated_datetime_y</th>\n      <th>state_y</th>\n      <th>is_ffpe</th>\n      <th>preservation_method</th>\n      <th>tissue_type</th>\n      <th>portion_id</th>\n    </tr>\n  </thead>\n  <tbody>\n    <tr>\n      <th>0</th>\n      <td>001cef41-ff86-4d3f-a140-a647ac4b10a1</td>\n      <td>TCGA-E2-A1IU</td>\n      <td>Not Reported</td>\n      <td>2019-07-31T21:13:49.301117-05:00</td>\n      <td>c325fd67-6023-5c43-85c2-4ed779fb9473</td>\n      <td>released</td>\n      <td>d14426b2-e0a0-519a-bea6-4fe07d11ce95</td>\n      <td>not hispanic or latino</td>\n      <td>female</td>\n      <td>white</td>\n      <td>...</td>\n      <td>81ef5a2d-dcb8-49fa-a9ef-c5520d703e18</td>\n      <td>Primary Tumor</td>\n      <td>No</td>\n      <td>Solid Tissue</td>\n      <td>2023-11-08T11:17:33.420637-06:00</td>\n      <td>released</td>\n      <td>True</td>\n      <td>FFPE</td>\n      <td>Tumor</td>\n      <td>5458dfd2-8926-5965-98e9-4b17733a94ee</td>\n    </tr>\n    <tr>\n      <th>2</th>\n      <td>00b11ca8-8540-4a3d-b602-ec754b00230b</td>\n      <td>TCGA-LL-A440</td>\n      <td>Not Reported</td>\n      <td>2019-07-31T21:29:45.266135-05:00</td>\n      <td>abbef123-c781-5180-9013-c950101337e4</td>\n      <td>released</td>\n      <td>f5229922-62e2-51d5-ba4e-9489554c6a49</td>\n      <td>not hispanic or latino</td>\n      <td>female</td>\n      <td>white</td>\n      <td>...</td>\n      <td>77ff059d-7807-4cf1-88cd-a2da005167eb</td>\n      <td>Primary Tumor</td>\n      <td>No</td>\n      <td>Solid Tissue</td>\n      <td>2023-11-08T11:17:33.420637-06:00</td>\n      <td>released</td>\n      <td>True</td>\n      <td>FFPE</td>\n      <td>Tumor</td>\n      <td>9ba91156-b858-5a2d-bb74-9764e1dd2d90</td>\n    </tr>\n    <tr>\n      <th>3</th>\n      <td>011b9b2d-ebe5-42bf-9662-d922faccc7a1</td>\n      <td>TCGA-A7-A26E</td>\n      <td>Not Reported</td>\n      <td>2019-07-31T15:26:11.511879-05:00</td>\n      <td>ee13c559-7d80-5d45-bfa8-1d3bdfdcca7e</td>\n      <td>released</td>\n      <td>87f2d711-4b09-5f94-863a-3f09c58d6135</td>\n      <td>not hispanic or latino</td>\n      <td>female</td>\n      <td>white</td>\n      <td>...</td>\n      <td>a31f72f8-15c5-40af-a906-98eac28181d9</td>\n      <td>Primary Tumor</td>\n      <td>No</td>\n      <td>Solid Tissue</td>\n      <td>2023-11-08T11:17:33.420637-06:00</td>\n      <td>released</td>\n      <td>True</td>\n      <td>FFPE</td>\n      <td>Tumor</td>\n      <td>9ebf78e1-e5fe-568b-9861-eb211d4d980d</td>\n    </tr>\n    <tr>\n      <th>4</th>\n      <td>01263518-5f7c-49dc-8d7e-84b0c03a6a63</td>\n      <td>TCGA-A8-A07W</td>\n      <td>Not Reported</td>\n      <td>2019-07-31T21:14:01.028332-05:00</td>\n      <td>89020df8-974e-518a-94c8-f618c1acaac2</td>\n      <td>released</td>\n      <td>401df5b3-f3c8-5816-a5ed-c03ebc495f78</td>\n      <td>not reported</td>\n      <td>female</td>\n      <td>not reported</td>\n      <td>...</td>\n      <td>154e5ac5-ccdf-48bb-909b-2aacb63ca385</td>\n      <td>Primary Tumor</td>\n      <td>No</td>\n      <td>Solid Tissue</td>\n      <td>2023-11-08T11:17:33.420637-06:00</td>\n      <td>released</td>\n      <td>True</td>\n      <td>FFPE</td>\n      <td>Tumor</td>\n      <td>ee8e059b-32d6-5ba5-bea9-f03585877963</td>\n    </tr>\n    <tr>\n      <th>5</th>\n      <td>0130d616-885e-4a6c-9d03-2f17dd692a05</td>\n      <td>TCGA-D8-A1XY</td>\n      <td>Not Reported</td>\n      <td>2019-07-31T21:29:48.087201-05:00</td>\n      <td>bb2b5b6f-e375-590c-ac9f-ebf3c76e611d</td>\n      <td>released</td>\n      <td>cec6dece-e3af-55d6-b48c-151c58b09a93</td>\n      <td>not hispanic or latino</td>\n      <td>female</td>\n      <td>white</td>\n      <td>...</td>\n      <td>37cc2cf6-b57d-4f29-8e50-a5fb2b81826e</td>\n      <td>Primary Tumor</td>\n      <td>No</td>\n      <td>Solid Tissue</td>\n      <td>2023-11-08T11:17:33.420637-06:00</td>\n      <td>released</td>\n      <td>True</td>\n      <td>FFPE</td>\n      <td>Tumor</td>\n      <td>1814d808-067a-5531-9598-da70e60dc899</td>\n    </tr>\n    <tr>\n      <th>...</th>\n      <td>...</td>\n      <td>...</td>\n      <td>...</td>\n      <td>...</td>\n      <td>...</td>\n      <td>...</td>\n      <td>...</td>\n      <td>...</td>\n      <td>...</td>\n      <td>...</td>\n      <td>...</td>\n      <td>...</td>\n      <td>...</td>\n      <td>...</td>\n      <td>...</td>\n      <td>...</td>\n      <td>...</td>\n      <td>...</td>\n      <td>...</td>\n      <td>...</td>\n      <td>...</td>\n    </tr>\n    <tr>\n      <th>1001</th>\n      <td>fe15c48b-116d-461e-9b40-68514730fd18</td>\n      <td>TCGA-A2-A0CP</td>\n      <td>Not Reported</td>\n      <td>2019-07-31T22:06:27.807078-05:00</td>\n      <td>8356c601-d77c-5391-a99b-af17a88b689a</td>\n      <td>released</td>\n      <td>bb8d0641-2529-5ec3-838a-3c655e93fd16</td>\n      <td>not hispanic or latino</td>\n      <td>female</td>\n      <td>white</td>\n      <td>...</td>\n      <td>195dfb4a-fc19-413f-8266-f4825a5865be</td>\n      <td>Blood Derived Normal</td>\n      <td>false</td>\n      <td>Peripheral Blood NOS</td>\n      <td>2023-04-28T11:48:33.967681-05:00</td>\n      <td>released</td>\n      <td>False</td>\n      <td>Unknown</td>\n      <td>Normal</td>\n      <td>50c0fc4d-12eb-4d2e-b04b-9555adcb4b2f</td>\n    </tr>\n    <tr>\n      <th>1002</th>\n      <td>fe2cd610-aa52-4789-ac62-7683281bb22f</td>\n      <td>TCGA-PL-A8LX</td>\n      <td>Not Reported</td>\n      <td>2019-07-31T22:06:41.984705-05:00</td>\n      <td>716dfe57-a12d-517b-b1d8-8b6bedf09f9e</td>\n      <td>released</td>\n      <td>562fee57-d81f-52ce-8b4e-22792b17435f</td>\n      <td>not hispanic or latino</td>\n      <td>female</td>\n      <td>black or african american</td>\n      <td>...</td>\n      <td>64149d95-1ec6-47eb-985b-0f67252d7f26</td>\n      <td>Primary Tumor</td>\n      <td>false</td>\n      <td>Solid Tissue</td>\n      <td>2023-11-08T11:21:17.930864-06:00</td>\n      <td>released</td>\n      <td>False</td>\n      <td>FFPE</td>\n      <td>Tumor</td>\n      <td>22b100c7-397e-4940-8a06-94fa7d3f46dc</td>\n    </tr>\n    <tr>\n      <th>1003</th>\n      <td>fe7f74b8-20f4-4471-91dc-4cca8c68e5c0</td>\n      <td>TCGA-A2-A3XZ</td>\n      <td>Not Reported</td>\n      <td>2019-07-31T22:06:45.034028-05:00</td>\n      <td>4222a617-4e41-5c5b-bb17-448e71eebd42</td>\n      <td>released</td>\n      <td>950c1911-2466-5e9c-9953-768bd9b6d840</td>\n      <td>not hispanic or latino</td>\n      <td>female</td>\n      <td>black or african american</td>\n      <td>...</td>\n      <td>0da16b25-4d49-47e9-b927-1ab6a3a5768f</td>\n      <td>Primary Tumor</td>\n      <td>No</td>\n      <td>Solid Tissue</td>\n      <td>2023-11-08T11:17:33.420637-06:00</td>\n      <td>released</td>\n      <td>True</td>\n      <td>FFPE</td>\n      <td>Tumor</td>\n      <td>4f237609-d920-5758-a2da-674818ee956d</td>\n    </tr>\n    <tr>\n      <th>1004</th>\n      <td>fec0da58-1047-44d2-b6d1-c18cceed43dc</td>\n      <td>TCGA-E9-A295</td>\n      <td>Not Reported</td>\n      <td>2019-07-31T22:06:48.090699-05:00</td>\n      <td>22ee1967-1dac-530e-b939-b19c02814692</td>\n      <td>released</td>\n      <td>dc38f171-af3e-5f95-8c74-0d4704f606fd</td>\n      <td>not hispanic or latino</td>\n      <td>female</td>\n      <td>white</td>\n      <td>...</td>\n      <td>09c07618-67e0-415a-b542-2176de1482ba</td>\n      <td>Primary Tumor</td>\n      <td>No</td>\n      <td>Solid Tissue</td>\n      <td>2023-11-08T11:17:33.420637-06:00</td>\n      <td>released</td>\n      <td>True</td>\n      <td>FFPE</td>\n      <td>Tumor</td>\n      <td>aac2e578-5aa1-5b35-9105-97754d130bb5</td>\n    </tr>\n    <tr>\n      <th>1005</th>\n      <td>ff0f875f-113a-4c0f-8c0a-4259cd496e6d</td>\n      <td>TCGA-C8-A26W</td>\n      <td>Not Reported</td>\n      <td>2019-07-31T22:06:51.813804-05:00</td>\n      <td>8a5d83ff-b566-52ae-b784-92cd7775bccf</td>\n      <td>released</td>\n      <td>887e4eb3-2340-515b-b5b6-7242a16cbd51</td>\n      <td>not hispanic or latino</td>\n      <td>female</td>\n      <td>asian</td>\n      <td>...</td>\n      <td>317b72a8-0332-4db8-b9d1-9a26d9907a24</td>\n      <td>Primary Tumor</td>\n      <td>true</td>\n      <td>Solid Tissue</td>\n      <td>2023-11-08T11:17:33.420637-06:00</td>\n      <td>released</td>\n      <td>False</td>\n      <td>OCT</td>\n      <td>Tumor</td>\n      <td>4c5440c5-3eb7-4bfc-a5e7-51e1a55aa219</td>\n    </tr>\n  </tbody>\n</table>\n<p>760 rows × 55 columns</p>\n</div>"
     },
     "execution_count": 3,
     "metadata": {},
     "output_type": "execute_result"
    }
   ],
   "source": [
    "read_data = pd.read_csv(\"Cancer_data.csv\").iloc[:, 1:]  #drop the index column  # shape: (1006, 55)\n",
    "read_data.dropna(axis=0, inplace=True)  # drop rows with any missing values\n",
    "\n",
    "read_data  # shape: (760,55)"
   ],
   "metadata": {
    "collapsed": false
   }
  },
  {
   "cell_type": "code",
   "execution_count": 4,
   "outputs": [
    {
     "name": "stdout",
     "output_type": "stream",
     "text": [
      "<class 'pandas.core.frame.DataFrame'>\n",
      "Index: 760 entries, 0 to 1005\n",
      "Data columns (total 55 columns):\n",
      " #   Column                       Non-Null Count  Dtype  \n",
      "---  ------                       --------------  -----  \n",
      " 0   case_id                      760 non-null    object \n",
      " 1   submitter_id_x               760 non-null    object \n",
      " 2   alcohol_history              760 non-null    object \n",
      " 3   updated_datetime_x           760 non-null    object \n",
      " 4   exposure_id                  760 non-null    object \n",
      " 5   state_x                      760 non-null    object \n",
      " 6   demographic_id               760 non-null    object \n",
      " 7   ethnicity                    760 non-null    object \n",
      " 8   gender                       760 non-null    object \n",
      " 9   race                         760 non-null    object \n",
      " 10  vital_status                 760 non-null    object \n",
      " 11  age_at_index                 760 non-null    int64  \n",
      " 12  days_to_birth                760 non-null    float64\n",
      " 13  year_of_birth                760 non-null    float64\n",
      " 14  days_to_death                760 non-null    float64\n",
      " 15  synchronous_malignancy       760 non-null    object \n",
      " 16  ajcc_pathologic_stage        760 non-null    object \n",
      " 17  days_to_diagnosis            760 non-null    int64  \n",
      " 18  last_known_disease_status    760 non-null    object \n",
      " 19  tissue_or_organ_of_origin    760 non-null    object \n",
      " 20  days_to_last_follow_up       760 non-null    float64\n",
      " 21  age_at_diagnosis             760 non-null    float64\n",
      " 22  primary_diagnosis            760 non-null    object \n",
      " 23  prior_malignancy             760 non-null    object \n",
      " 24  year_of_diagnosis            760 non-null    float64\n",
      " 25  prior_treatment              760 non-null    object \n",
      " 26  ajcc_staging_system_edition  760 non-null    object \n",
      " 27  ajcc_pathologic_t            760 non-null    object \n",
      " 28  morphology                   760 non-null    object \n",
      " 29  ajcc_pathologic_n            760 non-null    object \n",
      " 30  ajcc_pathologic_m            760 non-null    object \n",
      " 31  classification_of_tumor      760 non-null    object \n",
      " 32  diagnosis_id                 760 non-null    object \n",
      " 33  icd_10_code                  760 non-null    object \n",
      " 34  site_of_resection_or_biopsy  760 non-null    object \n",
      " 35  tumor_grade                  760 non-null    object \n",
      " 36  progression_or_recurrence    760 non-null    object \n",
      " 37  project_id_x                 760 non-null    object \n",
      " 38  treatment_id                 760 non-null    object \n",
      " 39  treatment_type               760 non-null    object \n",
      " 40  treatment_or_therapy         760 non-null    object \n",
      " 41  submitter_id_y               760 non-null    object \n",
      " 42  project_id_y                 760 non-null    object \n",
      " 43  sample_type_id               760 non-null    int64  \n",
      " 44  tumor_descriptor             760 non-null    object \n",
      " 45  sample_id                    760 non-null    object \n",
      " 46  sample_type                  760 non-null    object \n",
      " 47  oct_embedded                 760 non-null    object \n",
      " 48  specimen_type                760 non-null    object \n",
      " 49  updated_datetime_y           760 non-null    object \n",
      " 50  state_y                      760 non-null    object \n",
      " 51  is_ffpe                      760 non-null    bool   \n",
      " 52  preservation_method          760 non-null    object \n",
      " 53  tissue_type                  760 non-null    object \n",
      " 54  portion_id                   760 non-null    object \n",
      "dtypes: bool(1), float64(6), int64(3), object(45)\n",
      "memory usage: 327.3+ KB\n"
     ]
    }
   ],
   "source": [
    "\n",
    "read_data.info()\n",
    "\n",
    "# 1 boolean, 6 float, 3 integers, and 45 object type variable"
   ],
   "metadata": {
    "collapsed": false
   }
  },
  {
   "cell_type": "code",
   "execution_count": 5,
   "outputs": [
    {
     "name": "stdout",
     "output_type": "stream",
     "text": [
      "The following columns have mixed data types: []\n"
     ]
    }
   ],
   "source": [
    "# check for the uniqueness of the value types in the column\n",
    "\n",
    "mixed_type_columns = []\n",
    "\n",
    "for column in read_data.columns:\n",
    "    unique_types = set(type(value) for value in read_data[column])\n",
    "    if len(unique_types) > 1:\n",
    "        mixed_type_columns.append(column)\n",
    "\n",
    "print(f\"The following columns have mixed data types: {mixed_type_columns}\")"
   ],
   "metadata": {
    "collapsed": false
   }
  },
  {
   "cell_type": "code",
   "execution_count": 6,
   "outputs": [
    {
     "name": "stdout",
     "output_type": "stream",
     "text": [
      "The following variables have constant entries: ['alcohol_history', 'state_x', 'gender', 'days_to_diagnosis', 'last_known_disease_status', 'classification_of_tumor', 'tumor_grade', 'progression_or_recurrence', 'project_id_x', 'project_id_y', 'state_y'] and the length is 11.\n"
     ]
    }
   ],
   "source": [
    "# obtain constant columns\n",
    "constant_columns = []\n",
    "for column in read_data.columns:\n",
    "    if column not in mixed_type_columns and len(np.unique(read_data[column])) == 1:\n",
    "        constant_columns.append(column)\n",
    "\n",
    "print(f\"The following variables have constant entries: {constant_columns} and the length is {len(constant_columns)}.\")"
   ],
   "metadata": {
    "collapsed": false
   }
  },
  {
   "cell_type": "code",
   "execution_count": 7,
   "outputs": [],
   "source": [
    "# remove constant columns\n",
    "new_df = read_data.drop(columns=constant_columns) # shape: (760, 44)\n",
    "df = new_df.copy().drop('vital_status', axis=1) # shape: (760, 43)\n",
    "y = new_df.copy()['vital_status'] # shape: (760, 1)"
   ],
   "metadata": {
    "collapsed": false
   }
  },
  {
   "cell_type": "code",
   "execution_count": 8,
   "outputs": [
    {
     "name": "stdout",
     "output_type": "stream",
     "text": [
      "<class 'pandas.core.frame.DataFrame'>\n",
      "Index: 760 entries, 0 to 1005\n",
      "Data columns (total 43 columns):\n",
      " #   Column                       Non-Null Count  Dtype  \n",
      "---  ------                       --------------  -----  \n",
      " 0   case_id                      760 non-null    object \n",
      " 1   submitter_id_x               760 non-null    object \n",
      " 2   updated_datetime_x           760 non-null    object \n",
      " 3   exposure_id                  760 non-null    object \n",
      " 4   demographic_id               760 non-null    object \n",
      " 5   ethnicity                    760 non-null    object \n",
      " 6   race                         760 non-null    object \n",
      " 7   age_at_index                 760 non-null    int64  \n",
      " 8   days_to_birth                760 non-null    float64\n",
      " 9   year_of_birth                760 non-null    float64\n",
      " 10  days_to_death                760 non-null    float64\n",
      " 11  synchronous_malignancy       760 non-null    object \n",
      " 12  ajcc_pathologic_stage        760 non-null    object \n",
      " 13  tissue_or_organ_of_origin    760 non-null    object \n",
      " 14  days_to_last_follow_up       760 non-null    float64\n",
      " 15  age_at_diagnosis             760 non-null    float64\n",
      " 16  primary_diagnosis            760 non-null    object \n",
      " 17  prior_malignancy             760 non-null    object \n",
      " 18  year_of_diagnosis            760 non-null    float64\n",
      " 19  prior_treatment              760 non-null    object \n",
      " 20  ajcc_staging_system_edition  760 non-null    object \n",
      " 21  ajcc_pathologic_t            760 non-null    object \n",
      " 22  morphology                   760 non-null    object \n",
      " 23  ajcc_pathologic_n            760 non-null    object \n",
      " 24  ajcc_pathologic_m            760 non-null    object \n",
      " 25  diagnosis_id                 760 non-null    object \n",
      " 26  icd_10_code                  760 non-null    object \n",
      " 27  site_of_resection_or_biopsy  760 non-null    object \n",
      " 28  treatment_id                 760 non-null    object \n",
      " 29  treatment_type               760 non-null    object \n",
      " 30  treatment_or_therapy         760 non-null    object \n",
      " 31  submitter_id_y               760 non-null    object \n",
      " 32  sample_type_id               760 non-null    int64  \n",
      " 33  tumor_descriptor             760 non-null    object \n",
      " 34  sample_id                    760 non-null    object \n",
      " 35  sample_type                  760 non-null    object \n",
      " 36  oct_embedded                 760 non-null    object \n",
      " 37  specimen_type                760 non-null    object \n",
      " 38  updated_datetime_y           760 non-null    object \n",
      " 39  is_ffpe                      760 non-null    bool   \n",
      " 40  preservation_method          760 non-null    object \n",
      " 41  tissue_type                  760 non-null    object \n",
      " 42  portion_id                   760 non-null    object \n",
      "dtypes: bool(1), float64(6), int64(2), object(34)\n",
      "memory usage: 256.1+ KB\n"
     ]
    }
   ],
   "source": [
    "df.info()"
   ],
   "metadata": {
    "collapsed": false
   }
  },
  {
   "cell_type": "code",
   "execution_count": 9,
   "outputs": [
    {
     "name": "stdout",
     "output_type": "stream",
     "text": [
      "The categorical columns are: ['case_id', 'submitter_id_x', 'updated_datetime_x', 'exposure_id', 'demographic_id', 'ethnicity', 'race', 'synchronous_malignancy', 'ajcc_pathologic_stage', 'tissue_or_organ_of_origin', 'primary_diagnosis', 'prior_malignancy', 'prior_treatment', 'ajcc_staging_system_edition', 'ajcc_pathologic_t', 'morphology', 'ajcc_pathologic_n', 'ajcc_pathologic_m', 'diagnosis_id', 'icd_10_code', 'site_of_resection_or_biopsy', 'treatment_id', 'treatment_type', 'treatment_or_therapy', 'submitter_id_y', 'tumor_descriptor', 'sample_id', 'sample_type', 'oct_embedded', 'specimen_type', 'updated_datetime_y', 'preservation_method', 'tissue_type', 'portion_id'] and the length is 34.\n",
      "The continuous columns are: ['age_at_index', 'days_to_birth', 'year_of_birth', 'days_to_death', 'days_to_last_follow_up', 'age_at_diagnosis', 'year_of_diagnosis', 'sample_type_id'] and the length is 8.\n",
      "The boolean columns are: ['is_ffpe'] and the length is 1.\n"
     ]
    }
   ],
   "source": [
    "# list the categorical and continuous columns\n",
    "\n",
    "categorical_columns = [col for col in df.columns if df[col].dtype == \"object\"]\n",
    "print(f\"The categorical columns are: {categorical_columns} and the length is {len(categorical_columns)}.\")\n",
    "\n",
    "continuous_columns = [cols for cols in df.columns if df[cols].dtype in [\"float64\", \"int64\"]]\n",
    "print(f\"The continuous columns are: {continuous_columns} and the length is {len(continuous_columns)}.\")\n",
    "\n",
    "boolean_columns = [col_ for col_ in df.columns if df[col_].dtype == \"bool\"]\n",
    "print(f\"The boolean columns are: {boolean_columns} and the length is {len(boolean_columns)}.\")"
   ],
   "metadata": {
    "collapsed": false
   }
  },
  {
   "cell_type": "code",
   "execution_count": 10,
   "outputs": [
    {
     "data": {
      "text/plain": "       age_at_index  days_to_birth  year_of_birth  days_to_death  \\\ncount    760.000000     760.000000     760.000000     760.000000   \nmean      57.988158  -21363.411842    1950.711842      71.502632   \nstd       13.114319    4782.040950      13.085907     464.739297   \nmin       26.000000  -32872.000000    1917.000000       0.000000   \n25%       48.000000  -24594.500000    1941.000000       0.000000   \n50%       58.000000  -21358.500000    1951.000000       0.000000   \n75%       67.000000  -17800.000000    1960.000000       0.000000   \nmax       90.000000   -9706.000000    1984.000000    6593.000000   \n\n       days_to_last_follow_up  age_at_diagnosis  year_of_diagnosis  \\\ncount              760.000000        760.000000          760.00000   \nmean              1221.442105      21363.411842         2008.70000   \nstd               1149.696492       4782.040950            3.35584   \nmin                 -7.000000       9706.000000         1988.00000   \n25%                447.000000      17800.000000         2007.00000   \n50%                799.000000      21358.500000         2009.50000   \n75%               1645.000000      24594.500000         2011.00000   \nmax               8605.000000      32872.000000         2013.00000   \n\n       sample_type_id  \ncount      760.000000  \nmean         4.078947  \nstd          4.300207  \nmin          1.000000  \n25%          1.000000  \n50%          1.000000  \n75%         10.000000  \nmax         11.000000  ",
      "text/html": "<div>\n<style scoped>\n    .dataframe tbody tr th:only-of-type {\n        vertical-align: middle;\n    }\n\n    .dataframe tbody tr th {\n        vertical-align: top;\n    }\n\n    .dataframe thead th {\n        text-align: right;\n    }\n</style>\n<table border=\"1\" class=\"dataframe\">\n  <thead>\n    <tr style=\"text-align: right;\">\n      <th></th>\n      <th>age_at_index</th>\n      <th>days_to_birth</th>\n      <th>year_of_birth</th>\n      <th>days_to_death</th>\n      <th>days_to_last_follow_up</th>\n      <th>age_at_diagnosis</th>\n      <th>year_of_diagnosis</th>\n      <th>sample_type_id</th>\n    </tr>\n  </thead>\n  <tbody>\n    <tr>\n      <th>count</th>\n      <td>760.000000</td>\n      <td>760.000000</td>\n      <td>760.000000</td>\n      <td>760.000000</td>\n      <td>760.000000</td>\n      <td>760.000000</td>\n      <td>760.00000</td>\n      <td>760.000000</td>\n    </tr>\n    <tr>\n      <th>mean</th>\n      <td>57.988158</td>\n      <td>-21363.411842</td>\n      <td>1950.711842</td>\n      <td>71.502632</td>\n      <td>1221.442105</td>\n      <td>21363.411842</td>\n      <td>2008.70000</td>\n      <td>4.078947</td>\n    </tr>\n    <tr>\n      <th>std</th>\n      <td>13.114319</td>\n      <td>4782.040950</td>\n      <td>13.085907</td>\n      <td>464.739297</td>\n      <td>1149.696492</td>\n      <td>4782.040950</td>\n      <td>3.35584</td>\n      <td>4.300207</td>\n    </tr>\n    <tr>\n      <th>min</th>\n      <td>26.000000</td>\n      <td>-32872.000000</td>\n      <td>1917.000000</td>\n      <td>0.000000</td>\n      <td>-7.000000</td>\n      <td>9706.000000</td>\n      <td>1988.00000</td>\n      <td>1.000000</td>\n    </tr>\n    <tr>\n      <th>25%</th>\n      <td>48.000000</td>\n      <td>-24594.500000</td>\n      <td>1941.000000</td>\n      <td>0.000000</td>\n      <td>447.000000</td>\n      <td>17800.000000</td>\n      <td>2007.00000</td>\n      <td>1.000000</td>\n    </tr>\n    <tr>\n      <th>50%</th>\n      <td>58.000000</td>\n      <td>-21358.500000</td>\n      <td>1951.000000</td>\n      <td>0.000000</td>\n      <td>799.000000</td>\n      <td>21358.500000</td>\n      <td>2009.50000</td>\n      <td>1.000000</td>\n    </tr>\n    <tr>\n      <th>75%</th>\n      <td>67.000000</td>\n      <td>-17800.000000</td>\n      <td>1960.000000</td>\n      <td>0.000000</td>\n      <td>1645.000000</td>\n      <td>24594.500000</td>\n      <td>2011.00000</td>\n      <td>10.000000</td>\n    </tr>\n    <tr>\n      <th>max</th>\n      <td>90.000000</td>\n      <td>-9706.000000</td>\n      <td>1984.000000</td>\n      <td>6593.000000</td>\n      <td>8605.000000</td>\n      <td>32872.000000</td>\n      <td>2013.00000</td>\n      <td>11.000000</td>\n    </tr>\n  </tbody>\n</table>\n</div>"
     },
     "execution_count": 10,
     "metadata": {},
     "output_type": "execute_result"
    }
   ],
   "source": [
    "df.describe()"
   ],
   "metadata": {
    "collapsed": false
   }
  },
  {
   "cell_type": "code",
   "execution_count": 11,
   "outputs": [
    {
     "data": {
      "text/plain": "                                     case_id submitter_id_x  \\\ncount                                    760            760   \nunique                                   760            760   \ntop     001cef41-ff86-4d3f-a140-a647ac4b10a1   TCGA-E2-A1IU   \nfreq                                       1              1   \n\n                      updated_datetime_x  \\\ncount                                760   \nunique                               760   \ntop     2019-07-31T21:13:49.301117-05:00   \nfreq                                   1   \n\n                                 exposure_id  \\\ncount                                    760   \nunique                                   760   \ntop     c325fd67-6023-5c43-85c2-4ed779fb9473   \nfreq                                       1   \n\n                              demographic_id               ethnicity   race  \\\ncount                                    760                     760    760   \nunique                                   760                       3      4   \ntop     d14426b2-e0a0-519a-bea6-4fe07d11ce95  not hispanic or latino  white   \nfreq                                       1                     611    501   \n\n       synchronous_malignancy ajcc_pathologic_stage tissue_or_organ_of_origin  \\\ncount                     760                   760                       760   \nunique                      2                    12                         2   \ntop                        No             Stage IIA               Breast, NOS   \nfreq                      704                   255                       758   \n\n        ... submitter_id_y tumor_descriptor  \\\ncount   ...            760              760   \nunique  ...            760                2   \ntop     ...   TCGA-E2-A1IU          Primary   \nfreq    ...              1              502   \n\n                                   sample_id    sample_type oct_embedded  \\\ncount                                    760            760          760   \nunique                                   760              3            3   \ntop     81ef5a2d-dcb8-49fa-a9ef-c5520d703e18  Primary Tumor        false   \nfreq                                       1            502          369   \n\n       specimen_type                updated_datetime_y preservation_method  \\\ncount            760                               760                 760   \nunique             2                                41                   3   \ntop     Solid Tissue  2023-11-08T11:17:33.420637-06:00             Unknown   \nfreq             520                               355                 364   \n\n       tissue_type                            portion_id  \ncount          760                                   760  \nunique           2                                   760  \ntop          Tumor  5458dfd2-8926-5965-98e9-4b17733a94ee  \nfreq           502                                     1  \n\n[4 rows x 34 columns]",
      "text/html": "<div>\n<style scoped>\n    .dataframe tbody tr th:only-of-type {\n        vertical-align: middle;\n    }\n\n    .dataframe tbody tr th {\n        vertical-align: top;\n    }\n\n    .dataframe thead th {\n        text-align: right;\n    }\n</style>\n<table border=\"1\" class=\"dataframe\">\n  <thead>\n    <tr style=\"text-align: right;\">\n      <th></th>\n      <th>case_id</th>\n      <th>submitter_id_x</th>\n      <th>updated_datetime_x</th>\n      <th>exposure_id</th>\n      <th>demographic_id</th>\n      <th>ethnicity</th>\n      <th>race</th>\n      <th>synchronous_malignancy</th>\n      <th>ajcc_pathologic_stage</th>\n      <th>tissue_or_organ_of_origin</th>\n      <th>...</th>\n      <th>submitter_id_y</th>\n      <th>tumor_descriptor</th>\n      <th>sample_id</th>\n      <th>sample_type</th>\n      <th>oct_embedded</th>\n      <th>specimen_type</th>\n      <th>updated_datetime_y</th>\n      <th>preservation_method</th>\n      <th>tissue_type</th>\n      <th>portion_id</th>\n    </tr>\n  </thead>\n  <tbody>\n    <tr>\n      <th>count</th>\n      <td>760</td>\n      <td>760</td>\n      <td>760</td>\n      <td>760</td>\n      <td>760</td>\n      <td>760</td>\n      <td>760</td>\n      <td>760</td>\n      <td>760</td>\n      <td>760</td>\n      <td>...</td>\n      <td>760</td>\n      <td>760</td>\n      <td>760</td>\n      <td>760</td>\n      <td>760</td>\n      <td>760</td>\n      <td>760</td>\n      <td>760</td>\n      <td>760</td>\n      <td>760</td>\n    </tr>\n    <tr>\n      <th>unique</th>\n      <td>760</td>\n      <td>760</td>\n      <td>760</td>\n      <td>760</td>\n      <td>760</td>\n      <td>3</td>\n      <td>4</td>\n      <td>2</td>\n      <td>12</td>\n      <td>2</td>\n      <td>...</td>\n      <td>760</td>\n      <td>2</td>\n      <td>760</td>\n      <td>3</td>\n      <td>3</td>\n      <td>2</td>\n      <td>41</td>\n      <td>3</td>\n      <td>2</td>\n      <td>760</td>\n    </tr>\n    <tr>\n      <th>top</th>\n      <td>001cef41-ff86-4d3f-a140-a647ac4b10a1</td>\n      <td>TCGA-E2-A1IU</td>\n      <td>2019-07-31T21:13:49.301117-05:00</td>\n      <td>c325fd67-6023-5c43-85c2-4ed779fb9473</td>\n      <td>d14426b2-e0a0-519a-bea6-4fe07d11ce95</td>\n      <td>not hispanic or latino</td>\n      <td>white</td>\n      <td>No</td>\n      <td>Stage IIA</td>\n      <td>Breast, NOS</td>\n      <td>...</td>\n      <td>TCGA-E2-A1IU</td>\n      <td>Primary</td>\n      <td>81ef5a2d-dcb8-49fa-a9ef-c5520d703e18</td>\n      <td>Primary Tumor</td>\n      <td>false</td>\n      <td>Solid Tissue</td>\n      <td>2023-11-08T11:17:33.420637-06:00</td>\n      <td>Unknown</td>\n      <td>Tumor</td>\n      <td>5458dfd2-8926-5965-98e9-4b17733a94ee</td>\n    </tr>\n    <tr>\n      <th>freq</th>\n      <td>1</td>\n      <td>1</td>\n      <td>1</td>\n      <td>1</td>\n      <td>1</td>\n      <td>611</td>\n      <td>501</td>\n      <td>704</td>\n      <td>255</td>\n      <td>758</td>\n      <td>...</td>\n      <td>1</td>\n      <td>502</td>\n      <td>1</td>\n      <td>502</td>\n      <td>369</td>\n      <td>520</td>\n      <td>355</td>\n      <td>364</td>\n      <td>502</td>\n      <td>1</td>\n    </tr>\n  </tbody>\n</table>\n<p>4 rows × 34 columns</p>\n</div>"
     },
     "execution_count": 11,
     "metadata": {},
     "output_type": "execute_result"
    }
   ],
   "source": [
    "df[categorical_columns].describe()"
   ],
   "metadata": {
    "collapsed": false
   }
  },
  {
   "cell_type": "markdown",
   "source": [
    "### Exploratory Data Analysis (Visualization)"
   ],
   "metadata": {
    "collapsed": false
   }
  },
  {
   "cell_type": "code",
   "execution_count": 12,
   "outputs": [
    {
     "data": {
      "text/plain": "<Figure size 2083.38x2000 with 0 Axes>"
     },
     "metadata": {},
     "output_type": "display_data"
    }
   ],
   "source": [
    "# Set the grid off in matplotlib\n",
    "plt.rcParams['axes.grid'] = False\n",
    "\n",
    "# visualize the relationship between continuous columns\n",
    "sns.pairplot(pd.concat([df[continuous_columns], y], axis=1), hue='vital_status')\n",
    "plt.grid(False)\n",
    "plt.title(f\"Pairwise relationship between continuous variables.\")\n",
    "plt.savefig(\"pairplot.png\")\n",
    "plt.clf()"
   ],
   "metadata": {
    "collapsed": false
   }
  },
  {
   "cell_type": "code",
   "execution_count": 108,
   "outputs": [
    {
     "data": {
      "text/plain": "<Figure size 640x480 with 0 Axes>"
     },
     "metadata": {},
     "output_type": "display_data"
    }
   ],
   "source": [
    "# outcome variable distribution\n",
    "sns.barplot(y.value_counts())\n",
    "plt.xlabel(\"vital_status\")\n",
    "plt.ylabel(\"Frequency\")\n",
    "plt.title(\"Histogram of outcome variable\")\n",
    "plt.savefig(\"outcome.png\")\n",
    "plt.clf()"
   ],
   "metadata": {
    "collapsed": false
   }
  },
  {
   "cell_type": "code",
   "execution_count": 116,
   "outputs": [],
   "source": [
    "# one hot encode categorical columns\n",
    "\n",
    "df2 = df[categorical_columns].copy()\n",
    "# Iterate through each column in the dataframe\n",
    "for column in categorical_columns:\n",
    "    one_hot = pd.get_dummies(df2[column], prefix=column).astype(int)\n",
    "    # Drop the original column from the dataframe\n",
    "    df2.drop(column, axis=1, inplace=True)\n",
    "    # Join the new one-hot encoded columns to the original dataframe\n",
    "    df2 = df2.join(one_hot)\n",
    "\n",
    "pd.DataFrame(df2).to_csv(\"df_onehot_encode.csv\")"
   ],
   "metadata": {
    "collapsed": false
   }
  },
  {
   "cell_type": "code",
   "execution_count": 117,
   "outputs": [
    {
     "data": {
      "text/plain": "(760, 7746)"
     },
     "execution_count": 117,
     "metadata": {},
     "output_type": "execute_result"
    }
   ],
   "source": [
    "df2.shape"
   ],
   "metadata": {
    "collapsed": false
   }
  },
  {
   "cell_type": "code",
   "execution_count": null,
   "outputs": [],
   "source": [
    "#combined_dfs = pd.concat([df[continuous_columns], df_categorical_columns])"
   ],
   "metadata": {
    "collapsed": false
   }
  }
 ],
 "metadata": {
  "kernelspec": {
   "display_name": "Python 3",
   "language": "python",
   "name": "python3"
  },
  "language_info": {
   "codemirror_mode": {
    "name": "ipython",
    "version": 2
   },
   "file_extension": ".py",
   "mimetype": "text/x-python",
   "name": "python",
   "nbconvert_exporter": "python",
   "pygments_lexer": "ipython2",
   "version": "2.7.6"
  }
 },
 "nbformat": 4,
 "nbformat_minor": 0
}
