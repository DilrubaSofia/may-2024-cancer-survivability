{
 "cells": [
  {
   "cell_type": "code",
   "execution_count": 17,
   "metadata": {},
   "outputs": [],
   "source": [
    "import pandas as pd\n",
    "import numpy as np\n",
    "import seaborn as sns\n",
    "import matplotlib.pyplot as plt\n",
    "import random\n",
    "\n",
    "from sklearn.linear_model import LogisticRegression\n",
    "from sklearn.ensemble import RandomForestClassifier, AdaBoostClassifier\n",
    "from sklearn.tree import DecisionTreeClassifier\n",
    "from sklearn.svm import SVC\n",
    "from sklearn.neighbors import KNeighborsClassifier\n",
    "from sklearn.neural_network import MLPClassifier\n",
    "from sklearn.preprocessing import MinMaxScaler\n",
    "from sklearn.model_selection import train_test_split, StratifiedKFold, GridSearchCV\n",
    "from sklearn.metrics import accuracy_score"
   ]
  },
  {
   "cell_type": "code",
   "execution_count": 2,
   "metadata": {},
   "outputs": [
    {
     "name": "stdout",
     "output_type": "stream",
     "text": [
      "<class 'pandas.core.frame.DataFrame'>\n",
      "RangeIndex: 991 entries, 0 to 990\n",
      "Data columns (total 13 columns):\n",
      " #   Column                  Non-Null Count  Dtype  \n",
      "---  ------                  --------------  -----  \n",
      " 0   ajcc_pathologic_stage   991 non-null    int64  \n",
      " 1   days_to_last_follow_up  991 non-null    float64\n",
      " 2   primary_diagnosis       991 non-null    object \n",
      " 3   prior_malignancy        991 non-null    object \n",
      " 4   year_of_diagnosis       991 non-null    float64\n",
      " 5   prior_treatment         991 non-null    object \n",
      " 6   pharm_treatment         991 non-null    int64  \n",
      " 7   radiation               991 non-null    int64  \n",
      " 8   ethnicity               991 non-null    object \n",
      " 9   race                    991 non-null    object \n",
      " 10  vital_status            991 non-null    object \n",
      " 11  age_at_index            991 non-null    int64  \n",
      " 12  year_of_birth           991 non-null    float64\n",
      "dtypes: float64(3), int64(4), object(6)\n",
      "memory usage: 100.8+ KB\n"
     ]
    }
   ],
   "source": [
    "readdata = pd.read_csv(\"./May 30/clinical_data.csv\").drop(columns=['case_id'])\n",
    "\n",
    "\n",
    "readdata.info()"
   ]
  },
  {
   "cell_type": "code",
   "execution_count": 3,
   "outputs": [
    {
     "data": {
      "text/plain": "     ajcc_pathologic_stage  days_to_last_follow_up  \\\n0                        1                   337.0   \n1                        3                     5.0   \n2                        1                   759.0   \n3                        5                   954.0   \n4                        8                   304.0   \n..                     ...                     ...   \n986                      1                  2813.0   \n987                      8                     5.0   \n988                      1                  1532.0   \n989                      3                   375.0   \n990                      4                   381.0   \n\n                    primary_diagnosis prior_malignancy  year_of_diagnosis  \\\n0    Infiltrating duct carcinoma, NOS               no             2010.0   \n1    Infiltrating duct carcinoma, NOS               no             2010.0   \n2              Lobular carcinoma, NOS              yes             2012.0   \n3              Lobular carcinoma, NOS              yes             2010.0   \n4    Infiltrating duct carcinoma, NOS               no             2009.0   \n..                                ...              ...                ...   \n986  Infiltrating duct carcinoma, NOS               no             2003.0   \n987  Infiltrating duct carcinoma, NOS               no             2013.0   \n988  Infiltrating duct carcinoma, NOS               no             2009.0   \n989            Lobular carcinoma, NOS               no             2011.0   \n990  Infiltrating duct carcinoma, NOS               no             2010.0   \n\n    prior_treatment  pharm_treatment  radiation               ethnicity  \\\n0                No                1          0  not hispanic or latino   \n1                No                0          0  not hispanic or latino   \n2                No                1          0  not hispanic or latino   \n3                No                1          1  not hispanic or latino   \n4                No                1          0            not reported   \n..              ...              ...        ...                     ...   \n986              No                1          1  not hispanic or latino   \n987              No                0          0  not hispanic or latino   \n988              No                1          0  not hispanic or latino   \n989              No                1          1  not hispanic or latino   \n990              No                1          0  not hispanic or latino   \n\n                          race vital_status  age_at_index  year_of_birth  \n0                        white        Alive            60         1950.0  \n1                        white        Alive            56         1954.0  \n2                        white        Alive            61         1951.0  \n3                        white        Alive            71         1939.0  \n4                 not reported        Alive            76         1933.0  \n..                         ...          ...           ...            ...  \n986                      white        Alive            60         1943.0  \n987  black or african american        Alive            35         1978.0  \n988  black or african american        Alive            46         1963.0  \n989                      white        Alive            71         1940.0  \n990                      asian        Alive            58         1952.0  \n\n[991 rows x 13 columns]",
      "text/html": "<div>\n<style scoped>\n    .dataframe tbody tr th:only-of-type {\n        vertical-align: middle;\n    }\n\n    .dataframe tbody tr th {\n        vertical-align: top;\n    }\n\n    .dataframe thead th {\n        text-align: right;\n    }\n</style>\n<table border=\"1\" class=\"dataframe\">\n  <thead>\n    <tr style=\"text-align: right;\">\n      <th></th>\n      <th>ajcc_pathologic_stage</th>\n      <th>days_to_last_follow_up</th>\n      <th>primary_diagnosis</th>\n      <th>prior_malignancy</th>\n      <th>year_of_diagnosis</th>\n      <th>prior_treatment</th>\n      <th>pharm_treatment</th>\n      <th>radiation</th>\n      <th>ethnicity</th>\n      <th>race</th>\n      <th>vital_status</th>\n      <th>age_at_index</th>\n      <th>year_of_birth</th>\n    </tr>\n  </thead>\n  <tbody>\n    <tr>\n      <th>0</th>\n      <td>1</td>\n      <td>337.0</td>\n      <td>Infiltrating duct carcinoma, NOS</td>\n      <td>no</td>\n      <td>2010.0</td>\n      <td>No</td>\n      <td>1</td>\n      <td>0</td>\n      <td>not hispanic or latino</td>\n      <td>white</td>\n      <td>Alive</td>\n      <td>60</td>\n      <td>1950.0</td>\n    </tr>\n    <tr>\n      <th>1</th>\n      <td>3</td>\n      <td>5.0</td>\n      <td>Infiltrating duct carcinoma, NOS</td>\n      <td>no</td>\n      <td>2010.0</td>\n      <td>No</td>\n      <td>0</td>\n      <td>0</td>\n      <td>not hispanic or latino</td>\n      <td>white</td>\n      <td>Alive</td>\n      <td>56</td>\n      <td>1954.0</td>\n    </tr>\n    <tr>\n      <th>2</th>\n      <td>1</td>\n      <td>759.0</td>\n      <td>Lobular carcinoma, NOS</td>\n      <td>yes</td>\n      <td>2012.0</td>\n      <td>No</td>\n      <td>1</td>\n      <td>0</td>\n      <td>not hispanic or latino</td>\n      <td>white</td>\n      <td>Alive</td>\n      <td>61</td>\n      <td>1951.0</td>\n    </tr>\n    <tr>\n      <th>3</th>\n      <td>5</td>\n      <td>954.0</td>\n      <td>Lobular carcinoma, NOS</td>\n      <td>yes</td>\n      <td>2010.0</td>\n      <td>No</td>\n      <td>1</td>\n      <td>1</td>\n      <td>not hispanic or latino</td>\n      <td>white</td>\n      <td>Alive</td>\n      <td>71</td>\n      <td>1939.0</td>\n    </tr>\n    <tr>\n      <th>4</th>\n      <td>8</td>\n      <td>304.0</td>\n      <td>Infiltrating duct carcinoma, NOS</td>\n      <td>no</td>\n      <td>2009.0</td>\n      <td>No</td>\n      <td>1</td>\n      <td>0</td>\n      <td>not reported</td>\n      <td>not reported</td>\n      <td>Alive</td>\n      <td>76</td>\n      <td>1933.0</td>\n    </tr>\n    <tr>\n      <th>...</th>\n      <td>...</td>\n      <td>...</td>\n      <td>...</td>\n      <td>...</td>\n      <td>...</td>\n      <td>...</td>\n      <td>...</td>\n      <td>...</td>\n      <td>...</td>\n      <td>...</td>\n      <td>...</td>\n      <td>...</td>\n      <td>...</td>\n    </tr>\n    <tr>\n      <th>986</th>\n      <td>1</td>\n      <td>2813.0</td>\n      <td>Infiltrating duct carcinoma, NOS</td>\n      <td>no</td>\n      <td>2003.0</td>\n      <td>No</td>\n      <td>1</td>\n      <td>1</td>\n      <td>not hispanic or latino</td>\n      <td>white</td>\n      <td>Alive</td>\n      <td>60</td>\n      <td>1943.0</td>\n    </tr>\n    <tr>\n      <th>987</th>\n      <td>8</td>\n      <td>5.0</td>\n      <td>Infiltrating duct carcinoma, NOS</td>\n      <td>no</td>\n      <td>2013.0</td>\n      <td>No</td>\n      <td>0</td>\n      <td>0</td>\n      <td>not hispanic or latino</td>\n      <td>black or african american</td>\n      <td>Alive</td>\n      <td>35</td>\n      <td>1978.0</td>\n    </tr>\n    <tr>\n      <th>988</th>\n      <td>1</td>\n      <td>1532.0</td>\n      <td>Infiltrating duct carcinoma, NOS</td>\n      <td>no</td>\n      <td>2009.0</td>\n      <td>No</td>\n      <td>1</td>\n      <td>0</td>\n      <td>not hispanic or latino</td>\n      <td>black or african american</td>\n      <td>Alive</td>\n      <td>46</td>\n      <td>1963.0</td>\n    </tr>\n    <tr>\n      <th>989</th>\n      <td>3</td>\n      <td>375.0</td>\n      <td>Lobular carcinoma, NOS</td>\n      <td>no</td>\n      <td>2011.0</td>\n      <td>No</td>\n      <td>1</td>\n      <td>1</td>\n      <td>not hispanic or latino</td>\n      <td>white</td>\n      <td>Alive</td>\n      <td>71</td>\n      <td>1940.0</td>\n    </tr>\n    <tr>\n      <th>990</th>\n      <td>4</td>\n      <td>381.0</td>\n      <td>Infiltrating duct carcinoma, NOS</td>\n      <td>no</td>\n      <td>2010.0</td>\n      <td>No</td>\n      <td>1</td>\n      <td>0</td>\n      <td>not hispanic or latino</td>\n      <td>asian</td>\n      <td>Alive</td>\n      <td>58</td>\n      <td>1952.0</td>\n    </tr>\n  </tbody>\n</table>\n<p>991 rows × 13 columns</p>\n</div>"
     },
     "execution_count": 3,
     "metadata": {},
     "output_type": "execute_result"
    }
   ],
   "source": [
    "readdata"
   ],
   "metadata": {
    "collapsed": false
   }
  },
  {
   "cell_type": "markdown",
   "source": [
    "### Exploratory Data Visualization"
   ],
   "metadata": {
    "collapsed": false
   }
  },
  {
   "cell_type": "code",
   "execution_count": 4,
   "outputs": [
    {
     "data": {
      "text/plain": "<Figure size 600x500 with 0 Axes>"
     },
     "metadata": {},
     "output_type": "display_data"
    },
    {
     "data": {
      "text/plain": "<Figure size 600x500 with 0 Axes>"
     },
     "metadata": {},
     "output_type": "display_data"
    },
    {
     "data": {
      "text/plain": "<Figure size 600x500 with 0 Axes>"
     },
     "metadata": {},
     "output_type": "display_data"
    },
    {
     "data": {
      "text/plain": "<Figure size 600x500 with 0 Axes>"
     },
     "metadata": {},
     "output_type": "display_data"
    },
    {
     "data": {
      "text/plain": "<Figure size 600x500 with 0 Axes>"
     },
     "metadata": {},
     "output_type": "display_data"
    }
   ],
   "source": [
    "target_variable = 'vital_status'\n",
    "# Function to visualize categorical features\n",
    "def visualize_categorical_features(df, target_variable):\n",
    "    categorical_columns = df.select_dtypes(include=['object']).columns\n",
    "    categorical_columns = [col for col in categorical_columns if col != target_variable]\n",
    "    for column in categorical_columns:\n",
    "        plt.figure(figsize=(6, 5))\n",
    "        sns.countplot(x=column, hue=target_variable, data=df)\n",
    "        plt.title(f'Relationship between {column} and {target_variable}')\n",
    "        plt.xticks(rotation=45)\n",
    "        plt.grid(False)\n",
    "        plt.tight_layout()\n",
    "        plt.savefig(f\"./plots/{column}.png\", bbox_inches='tight')\n",
    "        plt.clf()\n",
    "\n",
    "# Visualize categorical features\n",
    "visualize_categorical_features(readdata, target_variable)"
   ],
   "metadata": {
    "collapsed": false
   }
  },
  {
   "cell_type": "code",
   "execution_count": 5,
   "outputs": [
    {
     "data": {
      "text/plain": "<Figure size 1000x500 with 0 Axes>"
     },
     "metadata": {},
     "output_type": "display_data"
    },
    {
     "data": {
      "text/plain": "<Figure size 1000x500 with 0 Axes>"
     },
     "metadata": {},
     "output_type": "display_data"
    },
    {
     "data": {
      "text/plain": "<Figure size 1000x500 with 0 Axes>"
     },
     "metadata": {},
     "output_type": "display_data"
    },
    {
     "data": {
      "text/plain": "<Figure size 1000x500 with 0 Axes>"
     },
     "metadata": {},
     "output_type": "display_data"
    },
    {
     "data": {
      "text/plain": "<Figure size 1000x500 with 0 Axes>"
     },
     "metadata": {},
     "output_type": "display_data"
    },
    {
     "data": {
      "text/plain": "<Figure size 1000x500 with 0 Axes>"
     },
     "metadata": {},
     "output_type": "display_data"
    },
    {
     "data": {
      "text/plain": "<Figure size 1000x500 with 0 Axes>"
     },
     "metadata": {},
     "output_type": "display_data"
    }
   ],
   "source": [
    "# Function to visualize continuous features\n",
    "def visualize_continuous_features(df, target_variable):\n",
    "    continuous_columns = df.select_dtypes(include=['float64', 'int64']).columns\n",
    "    for column in continuous_columns:\n",
    "        plt.figure(figsize=(10, 5))\n",
    "        sns.boxplot(x=target_variable, y=column, data=df)\n",
    "        plt.title(f'Relationship between {column} and {target_variable}')\n",
    "        plt.xticks(rotation=45)\n",
    "        plt.grid(False)\n",
    "        plt.tight_layout()\n",
    "        plt.savefig(f\"./plots/{column}.png\", bbox_inches='tight')\n",
    "        plt.clf()\n",
    "\n",
    "\n",
    "# Visualize continuous features\n",
    "visualize_continuous_features(readdata, target_variable)"
   ],
   "metadata": {
    "collapsed": false
   }
  },
  {
   "cell_type": "markdown",
   "source": [
    "#### Data Analysis"
   ],
   "metadata": {
    "collapsed": false
   }
  },
  {
   "cell_type": "code",
   "execution_count": 6,
   "outputs": [],
   "source": [
    "# separate features from target variable and encode y as 0 or 1\n",
    "\n",
    "df = readdata.copy().drop(columns='vital_status', axis=1)\n",
    "y = np.array(1*pd.get_dummies(readdata.copy()['vital_status'], drop_first=True)).ravel()"
   ],
   "metadata": {
    "collapsed": false
   }
  },
  {
   "cell_type": "code",
   "execution_count": 7,
   "metadata": {
    "scrolled": true
   },
   "outputs": [
    {
     "name": "stdout",
     "output_type": "stream",
     "text": [
      "The categorical columns are: ['primary_diagnosis', 'prior_malignancy', 'prior_treatment', 'ethnicity', 'race'] and the length is 5.\n",
      "The continuous columns are: ['ajcc_pathologic_stage', 'days_to_last_follow_up', 'year_of_diagnosis', 'pharm_treatment', 'radiation', 'age_at_index', 'year_of_birth'] and the length is 7.\n",
      "The boolean columns are: [] and the length is 0.\n"
     ]
    }
   ],
   "source": [
    "categorical_columns = [col for col in df.columns if df[col].dtype == \"object\"]\n",
    "print(f\"The categorical columns are: {categorical_columns} and the length is {len(categorical_columns)}.\")\n",
    "\n",
    "continuous_columns = [cols for cols in df.columns if df[cols].dtype in [\"float64\", \"int64\"]]\n",
    "print(f\"The continuous columns are: {continuous_columns} and the length is {len(continuous_columns)}.\")\n",
    "\n",
    "boolean_columns = [col_ for col_ in df.columns if df[col_].dtype == \"bool\"]\n",
    "print(f\"The boolean columns are: {boolean_columns} and the length is {len(boolean_columns)}.\")"
   ]
  },
  {
   "cell_type": "code",
   "execution_count": 8,
   "metadata": {},
   "outputs": [],
   "source": [
    "# one hot encode categorical columns\n",
    "df2 = df[categorical_columns].copy()\n",
    "# Iterate through each column in the dataframe\n",
    "for column in categorical_columns:\n",
    "    one_hot = pd.get_dummies(df2[column], prefix=column).astype(int)\n",
    "    # Drop the original column from the dataframe\n",
    "    df2.drop(column, axis=1, inplace=True)\n",
    "    # Join the new one-hot encoded columns to the original dataframe\n",
    "    df2 = df2.join(one_hot)"
   ]
  },
  {
   "cell_type": "code",
   "execution_count": 9,
   "metadata": {
    "scrolled": false
   },
   "outputs": [
    {
     "data": {
      "text/plain": "     ajcc_pathologic_stage  days_to_last_follow_up  year_of_diagnosis  \\\n0                        1                   337.0             2010.0   \n1                        3                     5.0             2010.0   \n2                        1                   759.0             2012.0   \n3                        5                   954.0             2010.0   \n4                        8                   304.0             2009.0   \n..                     ...                     ...                ...   \n986                      1                  2813.0             2003.0   \n987                      8                     5.0             2013.0   \n988                      1                  1532.0             2009.0   \n989                      3                   375.0             2011.0   \n990                      4                   381.0             2010.0   \n\n     pharm_treatment  radiation  age_at_index  year_of_birth  \\\n0                  1          0            60         1950.0   \n1                  0          0            56         1954.0   \n2                  1          0            61         1951.0   \n3                  1          1            71         1939.0   \n4                  1          0            76         1933.0   \n..               ...        ...           ...            ...   \n986                1          1            60         1943.0   \n987                0          0            35         1978.0   \n988                1          0            46         1963.0   \n989                1          1            71         1940.0   \n990                1          0            58         1952.0   \n\n     primary_diagnosis_Infiltrating duct carcinoma, NOS  \\\n0                                                    1    \n1                                                    1    \n2                                                    0    \n3                                                    0    \n4                                                    1    \n..                                                 ...    \n986                                                  1    \n987                                                  1    \n988                                                  1    \n989                                                  0    \n990                                                  1    \n\n     primary_diagnosis_Lobular carcinoma, NOS  primary_diagnosis_others  ...  \\\n0                                           0                         0  ...   \n1                                           0                         0  ...   \n2                                           1                         0  ...   \n3                                           1                         0  ...   \n4                                           0                         0  ...   \n..                                        ...                       ...  ...   \n986                                         0                         0  ...   \n987                                         0                         0  ...   \n988                                         0                         0  ...   \n989                                         1                         0  ...   \n990                                         0                         0  ...   \n\n     prior_treatment_Not Reported  prior_treatment_Yes  \\\n0                               0                    0   \n1                               0                    0   \n2                               0                    0   \n3                               0                    0   \n4                               0                    0   \n..                            ...                  ...   \n986                             0                    0   \n987                             0                    0   \n988                             0                    0   \n989                             0                    0   \n990                             0                    0   \n\n     ethnicity_hispanic or latino  ethnicity_not hispanic or latino  \\\n0                               0                                 1   \n1                               0                                 1   \n2                               0                                 1   \n3                               0                                 1   \n4                               0                                 0   \n..                            ...                               ...   \n986                             0                                 1   \n987                             0                                 1   \n988                             0                                 1   \n989                             0                                 1   \n990                             0                                 1   \n\n     ethnicity_not reported  race_american indian or alaska native  \\\n0                         0                                      0   \n1                         0                                      0   \n2                         0                                      0   \n3                         0                                      0   \n4                         1                                      0   \n..                      ...                                    ...   \n986                       0                                      0   \n987                       0                                      0   \n988                       0                                      0   \n989                       0                                      0   \n990                       0                                      0   \n\n     race_asian  race_black or african american  race_not reported  race_white  \n0             0                               0                  0           1  \n1             0                               0                  0           1  \n2             0                               0                  0           1  \n3             0                               0                  0           1  \n4             0                               0                  1           0  \n..          ...                             ...                ...         ...  \n986           0                               0                  0           1  \n987           0                               1                  0           0  \n988           0                               1                  0           0  \n989           0                               0                  0           1  \n990           1                               0                  0           0  \n\n[991 rows x 24 columns]",
      "text/html": "<div>\n<style scoped>\n    .dataframe tbody tr th:only-of-type {\n        vertical-align: middle;\n    }\n\n    .dataframe tbody tr th {\n        vertical-align: top;\n    }\n\n    .dataframe thead th {\n        text-align: right;\n    }\n</style>\n<table border=\"1\" class=\"dataframe\">\n  <thead>\n    <tr style=\"text-align: right;\">\n      <th></th>\n      <th>ajcc_pathologic_stage</th>\n      <th>days_to_last_follow_up</th>\n      <th>year_of_diagnosis</th>\n      <th>pharm_treatment</th>\n      <th>radiation</th>\n      <th>age_at_index</th>\n      <th>year_of_birth</th>\n      <th>primary_diagnosis_Infiltrating duct carcinoma, NOS</th>\n      <th>primary_diagnosis_Lobular carcinoma, NOS</th>\n      <th>primary_diagnosis_others</th>\n      <th>...</th>\n      <th>prior_treatment_Not Reported</th>\n      <th>prior_treatment_Yes</th>\n      <th>ethnicity_hispanic or latino</th>\n      <th>ethnicity_not hispanic or latino</th>\n      <th>ethnicity_not reported</th>\n      <th>race_american indian or alaska native</th>\n      <th>race_asian</th>\n      <th>race_black or african american</th>\n      <th>race_not reported</th>\n      <th>race_white</th>\n    </tr>\n  </thead>\n  <tbody>\n    <tr>\n      <th>0</th>\n      <td>1</td>\n      <td>337.0</td>\n      <td>2010.0</td>\n      <td>1</td>\n      <td>0</td>\n      <td>60</td>\n      <td>1950.0</td>\n      <td>1</td>\n      <td>0</td>\n      <td>0</td>\n      <td>...</td>\n      <td>0</td>\n      <td>0</td>\n      <td>0</td>\n      <td>1</td>\n      <td>0</td>\n      <td>0</td>\n      <td>0</td>\n      <td>0</td>\n      <td>0</td>\n      <td>1</td>\n    </tr>\n    <tr>\n      <th>1</th>\n      <td>3</td>\n      <td>5.0</td>\n      <td>2010.0</td>\n      <td>0</td>\n      <td>0</td>\n      <td>56</td>\n      <td>1954.0</td>\n      <td>1</td>\n      <td>0</td>\n      <td>0</td>\n      <td>...</td>\n      <td>0</td>\n      <td>0</td>\n      <td>0</td>\n      <td>1</td>\n      <td>0</td>\n      <td>0</td>\n      <td>0</td>\n      <td>0</td>\n      <td>0</td>\n      <td>1</td>\n    </tr>\n    <tr>\n      <th>2</th>\n      <td>1</td>\n      <td>759.0</td>\n      <td>2012.0</td>\n      <td>1</td>\n      <td>0</td>\n      <td>61</td>\n      <td>1951.0</td>\n      <td>0</td>\n      <td>1</td>\n      <td>0</td>\n      <td>...</td>\n      <td>0</td>\n      <td>0</td>\n      <td>0</td>\n      <td>1</td>\n      <td>0</td>\n      <td>0</td>\n      <td>0</td>\n      <td>0</td>\n      <td>0</td>\n      <td>1</td>\n    </tr>\n    <tr>\n      <th>3</th>\n      <td>5</td>\n      <td>954.0</td>\n      <td>2010.0</td>\n      <td>1</td>\n      <td>1</td>\n      <td>71</td>\n      <td>1939.0</td>\n      <td>0</td>\n      <td>1</td>\n      <td>0</td>\n      <td>...</td>\n      <td>0</td>\n      <td>0</td>\n      <td>0</td>\n      <td>1</td>\n      <td>0</td>\n      <td>0</td>\n      <td>0</td>\n      <td>0</td>\n      <td>0</td>\n      <td>1</td>\n    </tr>\n    <tr>\n      <th>4</th>\n      <td>8</td>\n      <td>304.0</td>\n      <td>2009.0</td>\n      <td>1</td>\n      <td>0</td>\n      <td>76</td>\n      <td>1933.0</td>\n      <td>1</td>\n      <td>0</td>\n      <td>0</td>\n      <td>...</td>\n      <td>0</td>\n      <td>0</td>\n      <td>0</td>\n      <td>0</td>\n      <td>1</td>\n      <td>0</td>\n      <td>0</td>\n      <td>0</td>\n      <td>1</td>\n      <td>0</td>\n    </tr>\n    <tr>\n      <th>...</th>\n      <td>...</td>\n      <td>...</td>\n      <td>...</td>\n      <td>...</td>\n      <td>...</td>\n      <td>...</td>\n      <td>...</td>\n      <td>...</td>\n      <td>...</td>\n      <td>...</td>\n      <td>...</td>\n      <td>...</td>\n      <td>...</td>\n      <td>...</td>\n      <td>...</td>\n      <td>...</td>\n      <td>...</td>\n      <td>...</td>\n      <td>...</td>\n      <td>...</td>\n      <td>...</td>\n    </tr>\n    <tr>\n      <th>986</th>\n      <td>1</td>\n      <td>2813.0</td>\n      <td>2003.0</td>\n      <td>1</td>\n      <td>1</td>\n      <td>60</td>\n      <td>1943.0</td>\n      <td>1</td>\n      <td>0</td>\n      <td>0</td>\n      <td>...</td>\n      <td>0</td>\n      <td>0</td>\n      <td>0</td>\n      <td>1</td>\n      <td>0</td>\n      <td>0</td>\n      <td>0</td>\n      <td>0</td>\n      <td>0</td>\n      <td>1</td>\n    </tr>\n    <tr>\n      <th>987</th>\n      <td>8</td>\n      <td>5.0</td>\n      <td>2013.0</td>\n      <td>0</td>\n      <td>0</td>\n      <td>35</td>\n      <td>1978.0</td>\n      <td>1</td>\n      <td>0</td>\n      <td>0</td>\n      <td>...</td>\n      <td>0</td>\n      <td>0</td>\n      <td>0</td>\n      <td>1</td>\n      <td>0</td>\n      <td>0</td>\n      <td>0</td>\n      <td>1</td>\n      <td>0</td>\n      <td>0</td>\n    </tr>\n    <tr>\n      <th>988</th>\n      <td>1</td>\n      <td>1532.0</td>\n      <td>2009.0</td>\n      <td>1</td>\n      <td>0</td>\n      <td>46</td>\n      <td>1963.0</td>\n      <td>1</td>\n      <td>0</td>\n      <td>0</td>\n      <td>...</td>\n      <td>0</td>\n      <td>0</td>\n      <td>0</td>\n      <td>1</td>\n      <td>0</td>\n      <td>0</td>\n      <td>0</td>\n      <td>1</td>\n      <td>0</td>\n      <td>0</td>\n    </tr>\n    <tr>\n      <th>989</th>\n      <td>3</td>\n      <td>375.0</td>\n      <td>2011.0</td>\n      <td>1</td>\n      <td>1</td>\n      <td>71</td>\n      <td>1940.0</td>\n      <td>0</td>\n      <td>1</td>\n      <td>0</td>\n      <td>...</td>\n      <td>0</td>\n      <td>0</td>\n      <td>0</td>\n      <td>1</td>\n      <td>0</td>\n      <td>0</td>\n      <td>0</td>\n      <td>0</td>\n      <td>0</td>\n      <td>1</td>\n    </tr>\n    <tr>\n      <th>990</th>\n      <td>4</td>\n      <td>381.0</td>\n      <td>2010.0</td>\n      <td>1</td>\n      <td>0</td>\n      <td>58</td>\n      <td>1952.0</td>\n      <td>1</td>\n      <td>0</td>\n      <td>0</td>\n      <td>...</td>\n      <td>0</td>\n      <td>0</td>\n      <td>0</td>\n      <td>1</td>\n      <td>0</td>\n      <td>0</td>\n      <td>1</td>\n      <td>0</td>\n      <td>0</td>\n      <td>0</td>\n    </tr>\n  </tbody>\n</table>\n<p>991 rows × 24 columns</p>\n</div>"
     },
     "execution_count": 9,
     "metadata": {},
     "output_type": "execute_result"
    }
   ],
   "source": [
    "# concatenate the continuous dataframe and one-hot encoded dataframe\n",
    "new_df = pd.concat([df[continuous_columns], df2], axis=1)\n",
    "\n",
    "new_df"
   ]
  },
  {
   "cell_type": "code",
   "execution_count": 11,
   "outputs": [],
   "source": [
    "# save the one hot encoded data\n",
    "\n",
    "new_df.to_csv(\"./May 30/one_hot_encoded_data.csv\", index=False)"
   ],
   "metadata": {
    "collapsed": false
   }
  },
  {
   "cell_type": "code",
   "execution_count": 18,
   "metadata": {},
   "outputs": [],
   "source": [
    "random.seed(123)\n",
    "\n",
    "# first split data into train and test\n",
    "xtrain_, xtest, ytrain_, ytest = train_test_split(new_df, y, train_size=0.8, shuffle=True, stratify=y, random_state=123)\n",
    "\n",
    "# scale data\n",
    "scale = MinMaxScaler()\n",
    "xtrain_ = scale.fit_transform(xtrain_)\n",
    "xtest = scale.transform(xtest)\n",
    "\n",
    "# perform stratified k-fold to split xtrain_ into xtrain_train and validation sets\n",
    "skf = StratifiedKFold(n_splits=10, shuffle=True, random_state=123)\n",
    "\n",
    "basemodel = DecisionTreeClassifier(random_state=123)\n",
    "best_model = None\n",
    "best_val_score = -np.inf\n",
    "\n",
    "base_scores = []\n",
    "model_scores = []\n",
    "\n",
    "# Perform stratified k-fold split with nested validation set\n",
    "for fold, (train_idx, val_idx) in enumerate(skf.split(xtrain_, ytrain_)):\n",
    "    xtrain_train, ytrain_train = xtrain_[train_idx], ytrain_[train_idx]\n",
    "    xval, yval = xtrain_[val_idx], ytrain_[val_idx]\n",
    "\n",
    "    # train base model\n",
    "    basemodel.fit(xtrain_train, ytrain_train)\n",
    "    base_val_pred = basemodel.predict(xval)\n",
    "    base_val_score = accuracy_score(yval, base_val_pred)\n",
    "\n",
    "    base_scores.append(base_val_score)\n",
    "\n",
    "    # Train multiple models\n",
    "    models = {'rf': RandomForestClassifier(random_state=123),\n",
    "              'adaboost': AdaBoostClassifier(algorithm='SAMME'),\n",
    "              'svc': SVC(),\n",
    "              'logreg': LogisticRegression(max_iter=1000),\n",
    "              'knn': KNeighborsClassifier(n_neighbors=10),\n",
    "              'mlp': MLPClassifier(max_iter=10000)\n",
    "              } # decisiontreeclassifier is our base model, thus we compare our results to this model.\n",
    "\n",
    "    for model_name, model in models.items():\n",
    "        # Train the model\n",
    "        model.fit(xtrain_train, ytrain_train)\n",
    "        # Validate the model\n",
    "        val_predictions = model.predict(xval)\n",
    "        val_score = accuracy_score(yval, val_predictions)\n",
    "\n",
    "        #print(f\"Fold {fold + 1}, Model: {model_name}, Validation Accuracy: {val_score:.4f}\")\n",
    "\n",
    "        model_scores.append((model_name, val_score))"
   ]
  },
  {
   "cell_type": "code",
   "execution_count": 19,
   "outputs": [
    {
     "name": "stdout",
     "output_type": "stream",
     "text": [
      "Average Validation Accuracy of the Base Model: 0.8649\n",
      "Best Model: rf with Average Validation Accuracy: 0.8987\n"
     ]
    }
   ],
   "source": [
    "# Print average accuracy of the base model\n",
    "average_base_score = np.mean(base_scores)\n",
    "print(f\"Average Validation Accuracy of the Base Model: {average_base_score:.4f}\")\n",
    "\n",
    "# Calculate average validation accuracy for each model and find the best model\n",
    "average_model_scores = {model_name: np.mean(scores) for model_name, scores in model_scores}\n",
    "best_model_name = max(average_model_scores, key=average_model_scores.get)\n",
    "best_model_avg_score = average_model_scores[best_model_name]\n",
    "\n",
    "print(f\"Best Model: {best_model_name} with Average Validation Accuracy: {best_model_avg_score:.4f}\")"
   ],
   "metadata": {
    "collapsed": false
   }
  },
  {
   "cell_type": "code",
   "execution_count": 20,
   "outputs": [
    {
     "name": "stdout",
     "output_type": "stream",
     "text": [
      "Best Model Hyperparameters: {'max_depth': 10, 'n_estimators': 100}\n",
      "Test Accuracy of the Best Tuned Model: 0.9296\n"
     ]
    }
   ],
   "source": [
    "param_grid = {\n",
    "        'n_estimators': [100, 200, 300],\n",
    "        'max_depth': [None, 10, 20, 30]\n",
    "    }\n",
    "grid_search = GridSearchCV(RandomForestClassifier(random_state=123), param_grid, cv=skf, scoring='accuracy')\n",
    "\n",
    "# Fit the grid search\n",
    "grid_search.fit(xtrain_, ytrain_)\n",
    "best_tuned_model = grid_search.best_estimator_\n",
    "print(f\"Best Model Hyperparameters: {grid_search.best_params_}\")\n",
    "\n",
    "# Test the best tuned model on the test set\n",
    "test_predictions = best_tuned_model.predict(xtest)\n",
    "test_score = accuracy_score(ytest, test_predictions)\n",
    "print(f\"Test Accuracy of the Best Tuned Model: {test_score:.4f}\")"
   ],
   "metadata": {
    "collapsed": false
   }
  },
  {
   "cell_type": "code",
   "execution_count": null,
   "outputs": [],
   "source": [],
   "metadata": {
    "collapsed": false
   }
  }
 ],
 "metadata": {
  "kernelspec": {
   "display_name": "Python 3 (ipykernel)",
   "language": "python",
   "name": "python3"
  },
  "language_info": {
   "codemirror_mode": {
    "name": "ipython",
    "version": 3
   },
   "file_extension": ".py",
   "mimetype": "text/x-python",
   "name": "python",
   "nbconvert_exporter": "python",
   "pygments_lexer": "ipython3",
   "version": "3.11.7"
  }
 },
 "nbformat": 4,
 "nbformat_minor": 1
}
